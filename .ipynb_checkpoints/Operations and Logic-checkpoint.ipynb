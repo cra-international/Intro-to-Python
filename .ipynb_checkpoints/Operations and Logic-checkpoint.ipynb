{
 "cells": [
  {
   "cell_type": "markdown",
   "metadata": {},
   "source": [
    "# Operations and Logic\n",
    "# Section 2: Other Python Operators, Logic, and Conditionals\n",
    "\n",
    "In Section 1, we introduced you to the main Python assignment  operator - the equals sign `=`. In this section, you'll be introduced to the other Python operators as well as Python logic."
   ]
  },
  {
   "cell_type": "markdown",
   "metadata": {},
   "source": [
    "## Part 1: Python Arithmetic Operators\n",
    "\n",
    "As you would expect, addition, subtraction, multiplication, and division are all defined in Python. Below are examples of those four operations."
   ]
  },
  {
   "cell_type": "code",
   "execution_count": 2,
   "metadata": {},
   "outputs": [],
   "source": [
    "x = 4\n",
    "y = 2\n",
    "\n",
    "a = x + y #Addition\n",
    "b = x - y #Subtraction\n",
    "c = x * y #Multiplication\n",
    "d = x / y #Division"
   ]
  },
  {
   "cell_type": "code",
   "execution_count": 3,
   "metadata": {},
   "outputs": [
    {
     "name": "stdout",
     "output_type": "stream",
     "text": [
      "6 2 8 2.0\n"
     ]
    }
   ],
   "source": [
    "print(a, b, c, d)"
   ]
  },
  {
   "cell_type": "markdown",
   "metadata": {},
   "source": [
    "Python also includes exponentiation, the mod operator, and floor division"
   ]
  },
  {
   "cell_type": "code",
   "execution_count": 4,
   "metadata": {},
   "outputs": [],
   "source": [
    "j = 7\n",
    "k = 3\n",
    "\n",
    "e = j**k #Exponentiation\n",
    "f = j%k #Moding (returns the remainder)\n",
    "g = j//k #Floor division (The quotient rounded down to the nearest integer)"
   ]
  },
  {
   "cell_type": "code",
   "execution_count": 5,
   "metadata": {},
   "outputs": [
    {
     "name": "stdout",
     "output_type": "stream",
     "text": [
      "343 1 2\n"
     ]
    }
   ],
   "source": [
    "print(e, f, g)"
   ]
  },
  {
   "cell_type": "markdown",
   "metadata": {},
   "source": [
    "Python's arithmetic operators are defined for some other variable types, such as strings. For example, two or more strings can be concatenated together using the addition `+` operator, as below."
   ]
  },
  {
   "cell_type": "code",
   "execution_count": 7,
   "metadata": {},
   "outputs": [
    {
     "name": "stdout",
     "output_type": "stream",
     "text": [
      "Hello World!\n"
     ]
    }
   ],
   "source": [
    "hello_world = \"Hello\" + \" \" + \"World\" + \"!\"\n",
    "print(hello_world)"
   ]
  },
  {
   "cell_type": "markdown",
   "metadata": {},
   "source": [
    "Strings can even be multiplied!"
   ]
  },
  {
   "cell_type": "code",
   "execution_count": 8,
   "metadata": {},
   "outputs": [
    {
     "name": "stdout",
     "output_type": "stream",
     "text": [
      "Hello... hello... hello... hello...\n"
     ]
    }
   ],
   "source": [
    "echo = \"Hello...\" + \" hello...\" * 3\n",
    "print(echo)"
   ]
  },
  {
   "cell_type": "markdown",
   "metadata": {},
   "source": [
    "String addition can be combined with the `str()` function, which converts non-string variables to string variables, to print non-string output. For example:"
   ]
  },
  {
   "cell_type": "code",
   "execution_count": 13,
   "metadata": {},
   "outputs": [
    {
     "name": "stdout",
     "output_type": "stream",
     "text": [
      "I have 5.0 dollars\n"
     ]
    }
   ],
   "source": [
    "cents = 500\n",
    "dollars = cents/100\n",
    "print(\"I have \" + str(dollars) + \" dollars\")"
   ]
  },
  {
   "cell_type": "markdown",
   "metadata": {},
   "source": [
    "## Part 2: Combined Arithmetic and Assignment Operators\n",
    "\n",
    "In Python, you can combine arithmetic and assignment operators to update existing variables with one operation. For example, you could increment a variable in Python by writing the following code:"
   ]
  },
  {
   "cell_type": "code",
   "execution_count": 15,
   "metadata": {},
   "outputs": [
    {
     "name": "stdout",
     "output_type": "stream",
     "text": [
      "6\n"
     ]
    }
   ],
   "source": [
    "m = 5\n",
    "m = m + 1\n",
    "print(m)"
   ]
  },
  {
   "cell_type": "markdown",
   "metadata": {},
   "source": [
    "However, you can also increment by one by combining `+` with `=` to create the `+=` operator which updates a variables by the amount on the right-hand side of the operator."
   ]
  },
  {
   "cell_type": "code",
   "execution_count": 16,
   "metadata": {},
   "outputs": [
    {
     "name": "stdout",
     "output_type": "stream",
     "text": [
      "6\n"
     ]
    }
   ],
   "source": [
    "n = 5\n",
    "n += 1 \n",
    "print(n)"
   ]
  },
  {
   "cell_type": "markdown",
   "metadata": {},
   "source": [
    "### Now you try! \n",
    "Combine the exponentiation operator and the equals sign to cube the variable `rubiks` below.\n"
   ]
  },
  {
   "cell_type": "code",
   "execution_count": 19,
   "metadata": {},
   "outputs": [],
   "source": [
    "rubiks = 3\n",
    "#Cube rubiks\n"
   ]
  },
  {
   "cell_type": "code",
   "execution_count": 20,
   "metadata": {},
   "outputs": [
    {
     "name": "stdout",
     "output_type": "stream",
     "text": [
      "3\n"
     ]
    }
   ],
   "source": [
    "print(rubiks)"
   ]
  },
  {
   "cell_type": "markdown",
   "metadata": {},
   "source": [
    "*Note: These combined operators are defined for all seven arithmetic operations*\n"
   ]
  },
  {
   "cell_type": "markdown",
   "metadata": {},
   "source": [
    "## Part 3: Comparison Operators\n",
    "\n",
    "Often times in Python, you may want to compare a variable against a value or compare a variable against other variables. Comparison is possible in Python thorugh the use of comaprison operators. There are six standard comparison operators, all shown below."
   ]
  },
  {
   "cell_type": "code",
   "execution_count": 10,
   "metadata": {},
   "outputs": [],
   "source": [
    "eq = 5 == 5 #Equals comparison\n",
    "lt = 5 < 5 #Less than comparison\n",
    "gt = 5 > 5 #Greater than comparison\n",
    "lt_or_eq = 5 <= 5 #Less than or equals to comparison\n",
    "gt_or_eq = 5 >= 5 #Greater than or equals to comparison\n",
    "not_eq = 5 != 5 #Not equals to comparison"
   ]
  },
  {
   "cell_type": "markdown",
   "metadata": {},
   "source": [
    "In the above code, the result of each comparison was assigned to a variable. Can you think what variable type those variables might be? Lets print some values and types of the variables above to find out."
   ]
  },
  {
   "cell_type": "code",
   "execution_count": 11,
   "metadata": {},
   "outputs": [
    {
     "name": "stdout",
     "output_type": "stream",
     "text": [
      "The value of eq is: True\n",
      "The value of lt is: False\n"
     ]
    }
   ],
   "source": [
    "print(\"The value of eq is:\", eq)\n",
    "print(\"The value of lt is:\", lt)"
   ]
  },
  {
   "cell_type": "markdown",
   "metadata": {},
   "source": [
    "It looks like the variables created above are all boolean values! Remember, from Section 1, boolean variables take the values `True` or `False`. We will discuss these variables in more depth in Part 4 below.\n",
    "\n",
    "There is one more comparison operator specific to Python, and that's `is`. The `is` operator is a stronger comparison than the `==` operator. It checks not just whether two values equal, but whether the variables themselves are identical in variable type and their location in Python memory. See below for an example of where using `==` might yield a `true` value but `is` would yield `False` value. "
   ]
  },
  {
   "cell_type": "code",
   "execution_count": 22,
   "metadata": {},
   "outputs": [],
   "source": [
    "check1 = 9 == 9.0\n",
    "check2 = (9 is 9.0)"
   ]
  },
  {
   "cell_type": "code",
   "execution_count": 23,
   "metadata": {},
   "outputs": [
    {
     "name": "stdout",
     "output_type": "stream",
     "text": [
      "True False\n"
     ]
    }
   ],
   "source": [
    "print(check1, check2)"
   ]
  },
  {
   "cell_type": "markdown",
   "metadata": {},
   "source": [
    "Because of this, the `is` operator is most frequently combined with the type() function in order to check variables types, such as in the code below."
   ]
  },
  {
   "cell_type": "code",
   "execution_count": 21,
   "metadata": {},
   "outputs": [
    {
     "name": "stdout",
     "output_type": "stream",
     "text": [
      "True\n"
     ]
    }
   ],
   "source": [
    "check3 = type(9.0) is float\n",
    "print(check3)"
   ]
  },
  {
   "cell_type": "markdown",
   "metadata": {},
   "source": [
    "Now you try! Below, write three separate expressions, one that checks whether `x` is greater than `y`, one that checks whether `x` is equal to `y`, and a third that checks whether `x` is less than `y`. Store the results of these comparisons in variables and then print the value of these variables to the console"
   ]
  },
  {
   "cell_type": "code",
   "execution_count": 22,
   "metadata": {},
   "outputs": [],
   "source": [
    "x = 4 ** 5\n",
    "y = 7 ** 4"
   ]
  },
  {
   "cell_type": "markdown",
   "metadata": {},
   "source": [
    "## Part 4: Boolean Logic and Logical Operators in Python"
   ]
  },
  {
   "cell_type": "markdown",
   "metadata": {},
   "source": [
    "As we saw above, comparisons in Python produce boolean variables, variables which take one of two values - `True` or `False`. These boolean values, combined with Python's logical operators, can be used to create complex logical expressions.\n",
    "\n",
    "The logical operators in Python are `and`, `or`, and `not`. We will see how these operators are defined and applied below."
   ]
  },
  {
   "cell_type": "markdown",
   "metadata": {},
   "source": [
    "The `and` operator checks if two conditions are both `True`. If at least one condition is `False`, the expression evaluates to `False`."
   ]
  },
  {
   "cell_type": "code",
   "execution_count": 25,
   "metadata": {},
   "outputs": [],
   "source": [
    "t_and_t = True and True #Evaluates to True\n",
    "t_and_f = True and False #Evaluates to False\n",
    "f_and_f = False and False #Evaluates to False"
   ]
  },
  {
   "cell_type": "code",
   "execution_count": 26,
   "metadata": {},
   "outputs": [
    {
     "name": "stdout",
     "output_type": "stream",
     "text": [
      "True False False\n"
     ]
    }
   ],
   "source": [
    "print(t_and_t, t_and_f, f_and_f)"
   ]
  },
  {
   "cell_type": "markdown",
   "metadata": {},
   "source": [
    "The `or` operator checks if at least one of two conditions is `True`. Both conditions can be `True`, but as long as at least one condition is `True` the expression will evaluate to `True`. Otherwise, the expression evaluate to `False`."
   ]
  },
  {
   "cell_type": "code",
   "execution_count": 27,
   "metadata": {},
   "outputs": [],
   "source": [
    "t_or_t = True or True #Evaluates to True\n",
    "t_or_f = True or False #Evaluates to True\n",
    "f_or_f = False or False #Evaluates to False"
   ]
  },
  {
   "cell_type": "code",
   "execution_count": 28,
   "metadata": {},
   "outputs": [
    {
     "name": "stdout",
     "output_type": "stream",
     "text": [
      "True True False\n"
     ]
    }
   ],
   "source": [
    "print(t_or_t, t_or_f, f_or_f)"
   ]
  },
  {
   "cell_type": "markdown",
   "metadata": {},
   "source": [
    "The `not` operator returns the opposite of expressions supllied. If the expressions is `True` it returns `False` and *vice versa*."
   ]
  },
  {
   "cell_type": "code",
   "execution_count": 31,
   "metadata": {},
   "outputs": [],
   "source": [
    "not_t = not True #Evaluates to False\n",
    "not_f = not False #Evaluates to True"
   ]
  },
  {
   "cell_type": "code",
   "execution_count": 32,
   "metadata": {},
   "outputs": [
    {
     "name": "stdout",
     "output_type": "stream",
     "text": [
      "False True\n"
     ]
    }
   ],
   "source": [
    "print(not_t, not_f)"
   ]
  },
  {
   "cell_type": "markdown",
   "metadata": {},
   "source": [
    "Also, logical operators have an associated order of operations. `not` is evaluated first, then `and`, and then lastly `or`. See below for an example of how the ordering of operations can change the result because of this. Both of the below expressions have the same operators and boolean values, but the two yield different results."
   ]
  },
  {
   "cell_type": "code",
   "execution_count": 33,
   "metadata": {},
   "outputs": [],
   "source": [
    "expression1 = True or False and False or False #Evaluates to True.\n",
    "expression2 = False or False and True or False #Evaluates to False"
   ]
  },
  {
   "cell_type": "code",
   "execution_count": 34,
   "metadata": {},
   "outputs": [
    {
     "name": "stdout",
     "output_type": "stream",
     "text": [
      "True False\n"
     ]
    }
   ],
   "source": [
    "print(expression1, expression2)"
   ]
  },
  {
   "cell_type": "markdown",
   "metadata": {},
   "source": [
    "But, like arithmetic, expressions in parentheses are always evaluated first. Below is expression 1, but with parentheses around the first `or`."
   ]
  },
  {
   "cell_type": "code",
   "execution_count": 35,
   "metadata": {},
   "outputs": [],
   "source": [
    "expression3 = (True or False) and False or False #Evaluates to False"
   ]
  },
  {
   "cell_type": "code",
   "execution_count": 36,
   "metadata": {},
   "outputs": [
    {
     "name": "stdout",
     "output_type": "stream",
     "text": [
      "False\n"
     ]
    }
   ],
   "source": [
    "print(expression3)"
   ]
  },
  {
   "cell_type": "markdown",
   "metadata": {},
   "source": [
    "### Now you try!\n",
    "Write a logical expression that evaluates to `True` and contains the following:\n",
    "* 4 `False` boolean values\n",
    "* 1 `True` boolean values\n",
    "* 3 `and` statements\n",
    "* 1 `or` statement"
   ]
  },
  {
   "cell_type": "code",
   "execution_count": null,
   "metadata": {},
   "outputs": [],
   "source": []
  },
  {
   "cell_type": "markdown",
   "metadata": {},
   "source": [
    "## Part 5: Combining Logical and Comparison Operators"
   ]
  },
  {
   "cell_type": "markdown",
   "metadata": {},
   "source": [
    "Rarely will programmers use raw boolean values like `True` or `False` as part or their expressions. Rather, programmers will use logical operators in coordination with comparison operators to evalute expressions. For example, say we had the following"
   ]
  },
  {
   "cell_type": "code",
   "execution_count": 37,
   "metadata": {},
   "outputs": [],
   "source": [
    "x = 3\n",
    "y = 5\n",
    "z = 1"
   ]
  },
  {
   "cell_type": "markdown",
   "metadata": {},
   "source": [
    "Then we might be interested in the following expression"
   ]
  },
  {
   "cell_type": "code",
   "execution_count": 39,
   "metadata": {},
   "outputs": [],
   "source": [
    "expression4 = x < y and z > y"
   ]
  },
  {
   "cell_type": "markdown",
   "metadata": {},
   "source": [
    "*Note that in the order of Python operations, comparison operators like less than `<` or greater than `>` are always evaluated before logical operators.*"
   ]
  },
  {
   "cell_type": "markdown",
   "metadata": {},
   "source": [
    "### Now you try! \n",
    "Write an expression that checks if `a` is not equal to `b` or `a` is not less than `c`"
   ]
  },
  {
   "cell_type": "code",
   "execution_count": null,
   "metadata": {},
   "outputs": [],
   "source": []
  },
  {
   "cell_type": "markdown",
   "metadata": {},
   "source": [
    "## Part 6: Conditional statements \n",
    "\n",
    "Knowing if an expression is `True` or `False` can be very useful if you'd like to take an action based on the result, such as sending an e-mail only if the e-mail isn't empty or if there is a listed recipient. \n",
    "\n",
    "This is possible in Python through the use of conditional statements, also known as `if` statements. See below for an example."
   ]
  },
  {
   "cell_type": "code",
   "execution_count": 23,
   "metadata": {},
   "outputs": [
    {
     "name": "stdout",
     "output_type": "stream",
     "text": [
      "p is greater than q\n"
     ]
    }
   ],
   "source": [
    "p = 20\n",
    "q = 5\n",
    "\n",
    "if p > q:\n",
    "    print(\"p is greater than q\")"
   ]
  },
  {
   "cell_type": "markdown",
   "metadata": {},
   "source": [
    "In the above example, Python first checks that `q` is greater than `p` and returns a boolean based on the comparison. In this case, since `p` is greater than `q`, a `True` value is returned. Since a `True` is returned the code in the *body* of the `if` statement is executed, in this case a print statement.\n",
    "\n",
    "What if we want to do one thing if the condition is `True` and something else if the condition is `False`? In that case, we'd add an `else` statement after the `if` statement. \n",
    "\n",
    "In the below example, we flip the comparison and now check whether `q` is greater than `p`. In this case, the `if` statement fails, which triggers the code in the `else` statement. Note that there is not comparison or condition next to the `else` statement since it is triggered only if the preceding comparison is `False`."
   ]
  },
  {
   "cell_type": "code",
   "execution_count": null,
   "metadata": {},
   "outputs": [],
   "source": [
    "if q > p:\n",
    "    print(\"q is greater than p\")\n",
    "else:\n",
    "    print(\"q is less than or equal to p\")"
   ]
  },
  {
   "cell_type": "markdown",
   "metadata": {},
   "source": [
    "Conditional statements like `if` and `else` end in colons `:` and are then followed below by indented code. The indentation exists in order to differentiate the code that is part of the conditional statement from the rest of the code in your Python file. We will see this structure again when we learn about function definitions. Luckily many Python code editors, like Spyder and Jupyter Notebooks, will indent code for you after you type a colon.\n",
    "\n",
    "So what if we have more than one condition we want to test? Say, if we want to test if `q` is greater than `p`, `q` is equal to `p`, or if `q` is less than `p`, all separately? In that case, we can add additional `elif` statements, short for \"else if\", in between the initial `if` and concluding `else` statements. \n",
    "\n",
    "For example, we could do the following:"
   ]
  },
  {
   "cell_type": "code",
   "execution_count": 41,
   "metadata": {},
   "outputs": [
    {
     "name": "stdout",
     "output_type": "stream",
     "text": [
      "q is less than p\n"
     ]
    }
   ],
   "source": [
    "if q > p:\n",
    "    print(\"q is greater than p\")\n",
    "elif q == p:\n",
    "    print(\"q is equal to p\")\n",
    "else:\n",
    "    print(\"q is less than p\")"
   ]
  },
  {
   "cell_type": "markdown",
   "metadata": {},
   "source": [
    "### Now you try! \n",
    "Use Python's `len()` function to compare the length of the strings below. Then, based on the string lengths, print an appropriate statement, such as `\"string 1 is longer than string 2\"` if the length of `string1` is greater than the length of `string2`."
   ]
  },
  {
   "cell_type": "code",
   "execution_count": 42,
   "metadata": {},
   "outputs": [],
   "source": [
    "string1 = \"We are the knights who say 'Ni!'\" \n",
    "string2 = \"We demand a sacrifice! We demand... a shrubbery!\"\n",
    "\n"
   ]
  },
  {
   "cell_type": "markdown",
   "metadata": {},
   "source": [
    "Fun fact, Python is actually named after the British comedy group Monty Python. The above quotes are from arguably their most famous movie, \"Monty Python and the Holy Grail\"."
   ]
  }
 ],
 "metadata": {
  "kernelspec": {
   "display_name": "Python 3",
   "language": "python",
   "name": "python3"
  },
  "language_info": {
   "codemirror_mode": {
    "name": "ipython",
    "version": 3
   },
   "file_extension": ".py",
   "mimetype": "text/x-python",
   "name": "python",
   "nbconvert_exporter": "python",
   "pygments_lexer": "ipython3",
   "version": "3.7.0"
  }
 },
 "nbformat": 4,
 "nbformat_minor": 4
}
