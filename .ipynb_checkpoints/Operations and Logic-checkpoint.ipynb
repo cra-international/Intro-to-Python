{
 "cells": [
  {
   "cell_type": "markdown",
   "metadata": {},
   "source": [
    "# Operations and Logic\n",
    "# Section 2: Other Python Operators, Logic, and Conditionals\n",
    "\n",
    "In Section 1, we introduced you to the main python assignement  operator - the equals sign `=`. In this section, you'll be introduced to the other Python operators as well as Python logic.\n",
    "\n",
    "First we'll start with Python's arithmetic operators.\n"
   ]
  },
  {
   "cell_type": "markdown",
   "metadata": {},
   "source": [
    "## Part 1: Python Arithmetic Operators\n",
    "\n",
    "As you would expect, addition, subtraction, multiplication, and division are all defined in Python. Below are examples of those four operations."
   ]
  },
  {
   "cell_type": "code",
   "execution_count": 2,
   "metadata": {},
   "outputs": [],
   "source": [
    "x = 4\n",
    "y = 2\n",
    "\n",
    "a = x + y #Addition\n",
    "b = x - y #Subtraction\n",
    "c = x * y #Multiplication\n",
    "d = x / y #Division"
   ]
  },
  {
   "cell_type": "code",
   "execution_count": 3,
   "metadata": {},
   "outputs": [
    {
     "name": "stdout",
     "output_type": "stream",
     "text": [
      "6 2 8 2.0\n"
     ]
    }
   ],
   "source": [
    "print(a, b, c, d)"
   ]
  },
  {
   "cell_type": "markdown",
   "metadata": {},
   "source": [
    "Python also includes exponentiation, the mod operator, and floor division"
   ]
  },
  {
   "cell_type": "code",
   "execution_count": 6,
   "metadata": {},
   "outputs": [],
   "source": [
    "j = 7\n",
    "k = 3\n",
    "\n",
    "e = j**k #Exponentiation\n",
    "f = j%k #Moding (returns the remainder)\n",
    "g = j//k #Floor division (The quotient rounded down to the nearest integer)"
   ]
  },
  {
   "cell_type": "code",
   "execution_count": 8,
   "metadata": {},
   "outputs": [
    {
     "name": "stdout",
     "output_type": "stream",
     "text": [
      "343 1 2\n"
     ]
    }
   ],
   "source": [
    "print(e, f, g)"
   ]
  },
  {
   "cell_type": "markdown",
   "metadata": {},
   "source": [
    "Python's arithmetic operators are defined for some other variable types, such as strings. For example, two or more strings can be concatenated together using the addition `+` operator, as below."
   ]
  },
  {
   "cell_type": "code",
   "execution_count": 10,
   "metadata": {},
   "outputs": [],
   "source": [
    "hello_world = \"Hello\" + \" \" + \"World\" + \"!\""
   ]
  },
  {
   "cell_type": "markdown",
   "metadata": {},
   "source": [
    "Strings can even be multiplied!"
   ]
  },
  {
   "cell_type": "code",
   "execution_count": 11,
   "metadata": {},
   "outputs": [
    {
     "name": "stdout",
     "output_type": "stream",
     "text": [
      "Hello... hello... hello... hello...\n"
     ]
    }
   ],
   "source": [
    "echo = \"Hello...\" + \" hello...\" * 3\n",
    "print(echo)"
   ]
  },
  {
   "cell_type": "markdown",
   "metadata": {},
   "source": [
    "String addition can be combined with the `str()` function to print non-string output. For example:"
   ]
  },
  {
   "cell_type": "code",
   "execution_count": 13,
   "metadata": {},
   "outputs": [
    {
     "name": "stdout",
     "output_type": "stream",
     "text": [
      "I have 5.0 dollars\n"
     ]
    }
   ],
   "source": [
    "cents = 500\n",
    "dollars = cents/100\n",
    "print(\"I have \" + str(dollars) + \" dollars\")"
   ]
  },
  {
   "cell_type": "code",
   "execution_count": null,
   "metadata": {},
   "outputs": [],
   "source": []
  }
 ],
 "metadata": {
  "kernelspec": {
   "display_name": "Python 3",
   "language": "python",
   "name": "python3"
  },
  "language_info": {
   "codemirror_mode": {
    "name": "ipython",
    "version": 3
   },
   "file_extension": ".py",
   "mimetype": "text/x-python",
   "name": "python",
   "nbconvert_exporter": "python",
   "pygments_lexer": "ipython3",
   "version": "3.7.0"
  }
 },
 "nbformat": 4,
 "nbformat_minor": 4
}
