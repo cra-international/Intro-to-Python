{
 "cells": [
  {
   "cell_type": "markdown",
   "metadata": {},
   "source": [
    "#  Intro to Python Part I Wrap Up\n",
    "\n",
    "## Section 5: One-Liners - With Answers\n",
    "\n",
    "At the end of Python Part I, we introduced Python packages and function definitions. Before jumping into Python Part II (Intro to Pandas) we'll introduce two more advanced Python concepts - List Comprehension and Ternary Operators. Both of these concepts allow you to condense complex code into just one line."
   ]
  },
  {
   "cell_type": "markdown",
   "metadata": {},
   "source": [
    "## List Comprehension"
   ]
  },
  {
   "cell_type": "markdown",
   "metadata": {},
   "source": [
    "In Section 3 of Intro to Python Part I, we introduced lists and For Loops. Recall, lists are ordered and mutable Python variables which store other Python objects while For Loops allow for looping through iterables, like Python lists! In fact, For Loops can be used to construct lists, like below where a For Loop is used to calculate the squares of all integers between 1 and 10."
   ]
  },
  {
   "cell_type": "code",
   "execution_count": null,
   "metadata": {},
   "outputs": [],
   "source": [
    "squares = []\n",
    "for i in range(1, 11):\n",
    "    squares.append(i**2)\n",
    "print(squares)"
   ]
  },
  {
   "cell_type": "markdown",
   "metadata": {},
   "source": [
    "However, it is possible in Python to combine the creation of `squares` above into just one line by doing the following"
   ]
  },
  {
   "cell_type": "code",
   "execution_count": null,
   "metadata": {},
   "outputs": [],
   "source": [
    "squares = [i**2 for i in range(1, 11)]\n",
    "print(squares)"
   ]
  },
  {
   "cell_type": "markdown",
   "metadata": {},
   "source": [
    "This compression of list creation and iteration all into one line of Python code is call *list comprehension*. List comprehension takes the form \n",
    "\n",
    "```python\n",
    "[expression for item in iterable]\n",
    "```\n",
    "In this case, the expression is `i**2`, which is then evaluated for each value of the iterable `range(1, 11)`. Since the whole expressions is bounded by square brackets (which are used to create lists), the values resulting from the expression are automatically stored into the list in the order they are processed by the For Loop. \n",
    "\n",
    "We can even add conditionals to list comprehension! For example, we can create a variable `odd_squares` which takes only the square of odd values between 1 and 10 by doing the following\n",
    "\n",
    "*Note: Remember, the mod operator (%) returns the remainder after integer division, so the mod 2 of an even number is 0 and the mod 2 of an odd number is 1*"
   ]
  },
  {
   "cell_type": "code",
   "execution_count": null,
   "metadata": {},
   "outputs": [],
   "source": [
    "odd_squares = [i**2 for i in range(1, 11) if i % 2 == 1]\n",
    "print(odd_squares)"
   ]
  },
  {
   "cell_type": "markdown",
   "metadata": {},
   "source": [
    "In the above code, the expression is only evaluated and stored into the list if the conditional (`if i % 2 == 1`) is True. Since the conditional is only true for odd numbers, only odd numbers between 1 and 10 are evaluated and only their squares are stored in the list `odd_squares`."
   ]
  },
  {
   "cell_type": "markdown",
   "metadata": {},
   "source": [
    "### Now You Try!\n",
    "\n",
    "This was very quickly sped through in Python Part I, but recall that the `in` logical operator checks whether a value is stored in an iterable. In fact it can even be used to check if a substring is within a larger string! See the code below for an example\n",
    "\n",
    "```python\n",
    "rhyme = \"Fuzzy Wuzzy was a bear. Fuzzy Wuzzy had no hair.\"\n",
    "print(\"uzz\" in rhyme)\n",
    ">>> True\n",
    "```\n",
    "\n",
    "Below is a list of recipient e-mail addresses called `emails`. Use list comprehension to create a list called `cra_emails` that contains only the e-mails addresses that end in \"@crai.com\"."
   ]
  },
  {
   "cell_type": "code",
   "execution_count": null,
   "metadata": {},
   "outputs": [],
   "source": [
    "emails = [\"cwilson@crai.com\", \"fuzzywuzzy@baldingbears.org\", \"kwaters@crai.com\", \n",
    "          \"itshelp@crai.com\", \"ironman@marvel.us\", \"techlabs@crai.com\"]\n",
    "\n",
    "cra_emails = [e for e in emails if \"@crai.com\" in e]\n",
    "print(cra_emails)"
   ]
  },
  {
   "cell_type": "markdown",
   "metadata": {},
   "source": [
    "Now, created a new variable called `cra_users` that are just the usernames of the e-mail addresses in `cra_emails`, i.e. everything left of \"@crai.com\". \n",
    "\n",
    "*Hint: What function/expression would you use to do this for just one e-mail address, i.e. for a string?*"
   ]
  },
  {
   "cell_type": "code",
   "execution_count": null,
   "metadata": {},
   "outputs": [],
   "source": [
    "cra_users = [e.replace(\"@crai.com\", \"\") for e in cra_emails]\n",
    "print(cra_users)"
   ]
  },
  {
   "cell_type": "markdown",
   "metadata": {},
   "source": [
    "## Ternary Operators \n",
    "\n",
    "In Section 2 of Intro to Part I we talked through conditional (if-then-else) statements. Often times these statements are used to create a variable. For example, we can create a string variable than denotes a company as \"Profitable\" or \"Not Profitable\" as below "
   ]
  },
  {
   "cell_type": "code",
   "execution_count": null,
   "metadata": {},
   "outputs": [],
   "source": [
    "revenue = 300\n",
    "if revenue > 0:\n",
    "    company_class = \"Profitable\"\n",
    "else:\n",
    "    company_class = \"Not Profitable\"\n",
    "print(company_class)"
   ]
  },
  {
   "cell_type": "markdown",
   "metadata": {},
   "source": [
    "However we can combine the 4 lines of that conditional statement into one by doing the following"
   ]
  },
  {
   "cell_type": "code",
   "execution_count": null,
   "metadata": {},
   "outputs": [],
   "source": [
    "revenue = 300\n",
    "company_class = \"Profitable\" if revenue > 0 else \"Not Profitable\"\n",
    "print(company_class)"
   ]
  },
  {
   "cell_type": "markdown",
   "metadata": {},
   "source": [
    "In the above code we use the *ternary operator* to specify what the value of `company_class` should be based off of a condition. Generally, the syntax of the ternary operator is \n",
    "\n",
    "```python\n",
    "variable = value1 if conditional else value2\n",
    "```\n",
    "\n",
    "So, in the above code, the variable is `company_class`, value1 is `\"Profitable\"`, the conditional is `revenue > 0` and value 2 is `\"Not Profitable\"`."
   ]
  },
  {
   "cell_type": "markdown",
   "metadata": {},
   "source": [
    "### Now You Try!\n",
    "\n",
    "To up the ante, let's combine list comprehension and ternary operators. Below write a function `get_cra_users()` that takes one input - a list of e-mail addresses. Then, use a ternary operator and list comprehension to return the usernames of all the cra emails if there exist cra_emails and `None` otherwise.\n",
    "\n",
    "*Hint: Try to make the body of the function just two lines!*"
   ]
  },
  {
   "cell_type": "code",
   "execution_count": null,
   "metadata": {},
   "outputs": [],
   "source": [
    "test_emails = [\"cwilson@crai.com\", \"fuzzywuzzy@baldingbears.org\", \"kwaters@crai.com\", \n",
    "               \"itshelp@crai.com\", \"ironman@marvel.us\", \"techlabs@crai.com\"]\n",
    "\n",
    "def get_cra_emails(emails):\n",
    "    cra_usernames = [e.replace(\"@crai.com\", \"\") for e in emails if \"@crai.com\" in e]\n",
    "    return cra_usernames if cra_usernames != [] else None"
   ]
  },
  {
   "cell_type": "code",
   "execution_count": null,
   "metadata": {},
   "outputs": [],
   "source": [
    "get_cra_emails(test_emails)"
   ]
  }
 ],
 "metadata": {
  "kernelspec": {
   "display_name": "Python 3",
   "language": "python",
   "name": "python3"
  },
  "language_info": {
   "codemirror_mode": {
    "name": "ipython",
    "version": 3
   },
   "file_extension": ".py",
   "mimetype": "text/x-python",
   "name": "python",
   "nbconvert_exporter": "python",
   "pygments_lexer": "ipython3",
   "version": "3.7.0"
  }
 },
 "nbformat": 4,
 "nbformat_minor": 4
}
