{
 "cells": [
  {
   "cell_type": "markdown",
   "metadata": {},
   "source": [
    "# Python Part II: Intro to Pandas"
   ]
  },
  {
   "cell_type": "markdown",
   "metadata": {},
   "source": [
    "In Python Part I, we flew through introductory Python concepts, everything from the `print()` statement to For Loops, and used that information to write cool little applications like simulating a coin flip. At the end, we covered packages which are importable Python obejcts with defined methods and attributes. We looked at the `math` package, we includes relevant mathmatical functions like `log10()` and `gcd()`. We also looked at the `random` package, with allowed us to create random variables. \n",
    "\n",
    "We will now introduce the Pandas package, which is a Python package that allows users easily to manipulate datasets in Python."
   ]
  },
  {
   "cell_type": "markdown",
   "metadata": {},
   "source": [
    "# Part 1: The DataFrame"
   ]
  },
  {
   "cell_type": "markdown",
   "metadata": {},
   "source": [
    "First, to start using Pandas, we have to import it. Typically, Pandas is imported as follows"
   ]
  },
  {
   "cell_type": "code",
   "execution_count": 8,
   "metadata": {},
   "outputs": [],
   "source": [
    "import pandas as pd"
   ]
  },
  {
   "cell_type": "markdown",
   "metadata": {},
   "source": [
    "The above code imports Pandas and then assigns the package a nickname, in this case `pd`. Therefore, whenever we refer to Pandas we can just type `pd`. \n",
    "\n",
    "With that, let's read in some data! The New York Times has been publishing their coronovirus case data online in a [GitHub repository](https://github.com/nytimes/covid-19-data). For this exercise, we will pull US county-level data on Coronovirus cases using [this link](https://raw.githubusercontent.com/nytimes/covid-19-data/master/us-counties.csv). The data is in CSV (Comma-Separated Value) format. \n",
    "\n",
    "*Note: Reading in the data may take some time. Please wait until you no longer see an asteriks (*****) next to the code below before you continue.*"
   ]
  },
  {
   "cell_type": "code",
   "execution_count": 12,
   "metadata": {},
   "outputs": [],
   "source": [
    "county_url = \"https://raw.githubusercontent.com/nytimes/covid-19-data/master/us-counties.csv\"\n",
    "df = pd.read_csv(county_url)"
   ]
  },
  {
   "cell_type": "markdown",
   "metadata": {},
   "source": [
    "In the above code, we reference the Pandas package using the `pd` notation discussed above. We then call the [read_csv](https://pandas.pydata.org/pandas-docs/stable/reference/api/pandas.read_csv.html) function, which has one *required* argument, in this case the path to the file. As the documentation notes, \"Any valid string path is acceptable. The string could be a URL.\" So in this case, we pass a URL to the function which itself points to a CSV file.\n",
    "\n",
    "Great! So, what was returned by this `read_csv()` function? Let's find out! We can use Python's built-in `type()` to find out."
   ]
  },
  {
   "cell_type": "code",
   "execution_count": 10,
   "metadata": {},
   "outputs": [
    {
     "name": "stdout",
     "output_type": "stream",
     "text": [
      "<class 'pandas.core.frame.DataFrame'>\n"
     ]
    }
   ],
   "source": [
    "print(type(df))"
   ]
  },
  {
   "cell_type": "markdown",
   "metadata": {},
   "source": [
    "In this case, what was returned was a *dataframe*, which is a data type we haven't seen before. That's because dataframes are defined by the Pandas package. We will spend the majority of our time learning about dataframes, as this is where all the magic happens. Dataframes not only store data, but they also have *methods* that allow us to manipulate the data easily. "
   ]
  },
  {
   "cell_type": "markdown",
   "metadata": {},
   "source": [
    "### Now you try! \n",
    "\n",
    "Create a new dataframe, called `us_df` that stores data from the *national-level* NY Times Coronovirus data, located [here](https://raw.githubusercontent.com/nytimes/covid-19-data/master/us.csv)."
   ]
  },
  {
   "cell_type": "code",
   "execution_count": null,
   "metadata": {},
   "outputs": [],
   "source": []
  },
  {
   "cell_type": "markdown",
   "metadata": {},
   "source": [
    "## Part 2: Exploring Data\n",
    "\n",
    "Now that we can read in the data, the next step is to explore the data and see what it looks like. So let's learn our first Pandas function. We can get a quick glimpse of the data by using the `.head()` method, which by default prints the first five observations of the dataset and all columns."
   ]
  },
  {
   "cell_type": "code",
   "execution_count": 13,
   "metadata": {},
   "outputs": [
    {
     "data": {
      "text/html": [
       "<div>\n",
       "<style scoped>\n",
       "    .dataframe tbody tr th:only-of-type {\n",
       "        vertical-align: middle;\n",
       "    }\n",
       "\n",
       "    .dataframe tbody tr th {\n",
       "        vertical-align: top;\n",
       "    }\n",
       "\n",
       "    .dataframe thead th {\n",
       "        text-align: right;\n",
       "    }\n",
       "</style>\n",
       "<table border=\"1\" class=\"dataframe\">\n",
       "  <thead>\n",
       "    <tr style=\"text-align: right;\">\n",
       "      <th></th>\n",
       "      <th>date</th>\n",
       "      <th>county</th>\n",
       "      <th>state</th>\n",
       "      <th>fips</th>\n",
       "      <th>cases</th>\n",
       "      <th>deaths</th>\n",
       "    </tr>\n",
       "  </thead>\n",
       "  <tbody>\n",
       "    <tr>\n",
       "      <th>0</th>\n",
       "      <td>2020-01-21</td>\n",
       "      <td>Snohomish</td>\n",
       "      <td>Washington</td>\n",
       "      <td>53061.0</td>\n",
       "      <td>1</td>\n",
       "      <td>0</td>\n",
       "    </tr>\n",
       "    <tr>\n",
       "      <th>1</th>\n",
       "      <td>2020-01-22</td>\n",
       "      <td>Snohomish</td>\n",
       "      <td>Washington</td>\n",
       "      <td>53061.0</td>\n",
       "      <td>1</td>\n",
       "      <td>0</td>\n",
       "    </tr>\n",
       "    <tr>\n",
       "      <th>2</th>\n",
       "      <td>2020-01-23</td>\n",
       "      <td>Snohomish</td>\n",
       "      <td>Washington</td>\n",
       "      <td>53061.0</td>\n",
       "      <td>1</td>\n",
       "      <td>0</td>\n",
       "    </tr>\n",
       "    <tr>\n",
       "      <th>3</th>\n",
       "      <td>2020-01-24</td>\n",
       "      <td>Cook</td>\n",
       "      <td>Illinois</td>\n",
       "      <td>17031.0</td>\n",
       "      <td>1</td>\n",
       "      <td>0</td>\n",
       "    </tr>\n",
       "    <tr>\n",
       "      <th>4</th>\n",
       "      <td>2020-01-24</td>\n",
       "      <td>Snohomish</td>\n",
       "      <td>Washington</td>\n",
       "      <td>53061.0</td>\n",
       "      <td>1</td>\n",
       "      <td>0</td>\n",
       "    </tr>\n",
       "  </tbody>\n",
       "</table>\n",
       "</div>"
      ],
      "text/plain": [
       "         date     county       state     fips  cases  deaths\n",
       "0  2020-01-21  Snohomish  Washington  53061.0      1       0\n",
       "1  2020-01-22  Snohomish  Washington  53061.0      1       0\n",
       "2  2020-01-23  Snohomish  Washington  53061.0      1       0\n",
       "3  2020-01-24       Cook    Illinois  17031.0      1       0\n",
       "4  2020-01-24  Snohomish  Washington  53061.0      1       0"
      ]
     },
     "execution_count": 13,
     "metadata": {},
     "output_type": "execute_result"
    }
   ],
   "source": [
    "df.head()"
   ]
  },
  {
   "cell_type": "markdown",
   "metadata": {},
   "source": [
    "Here we see that there are 6 columns - date, county, state, fips, cases, and deaths. It also looks like the data is sorted by date, with data on the earliest cases being at the top of the dataset.\n",
    "\n",
    "### Now you try!\n",
    "\n",
    "Below is some code that creates a dataframe `pop_df` which is 2018 county-level population estimates from the Census Bureau. Don't worry about the code that creates this dataset right now, we'll come back to it later on. For now, run the code cell that creates the dataset and then write code that prints first 5 observations of the dataset in the code cell below. Then, run the cell.  "
   ]
  },
  {
   "cell_type": "code",
   "execution_count": 35,
   "metadata": {},
   "outputs": [],
   "source": [
    "import requests\n",
    "r = requests.get(\"https://api.census.gov/data/2018/acs/acs5?get=NAME,group(B01003)&for=county\")\n",
    "pop_data = r.json()\n",
    "pop_df = pd.DataFrame(pop_data[1:], columns=[\"County_Name\"] + pop_data[0][1:])"
   ]
  },
  {
   "cell_type": "markdown",
   "metadata": {},
   "source": [
    "pop_df.head()"
   ]
  },
  {
   "cell_type": "markdown",
   "metadata": {},
   "source": [
    "(Maybe print number of observations? Summary statistics?)"
   ]
  },
  {
   "cell_type": "markdown",
   "metadata": {},
   "source": [
    "## Part 3: Cleaning Data\n",
    "\n",
    "It's not entirely clear what is going on with this data, so it'd be great if we could rename some variables to make them a bit more clear.\n",
    "\n",
    "In the dataset, the variable \"B01003_001E\" is actually the county-level population estimate. So, let's rename that to \"Population Estimate\" using the `.rename()` command. To do this, we pass a *dictionary* to the optional argument `columns` (it's optional because you can technically rename observations, but more on that later). That dictionary is formatted such that the *key* is the original variable name and the *value* is the new variable name. Multiple columns can be rename all at once by including multiple key-value pairs within the dictionary. Let's see an example of `.rename()` in action below."
   ]
  },
  {
   "cell_type": "code",
   "execution_count": 41,
   "metadata": {},
   "outputs": [],
   "source": [
    "pop_df = pop_df.rename(columns={\"B01003_001E\" : \"Population Estimate\"})"
   ]
  },
  {
   "cell_type": "markdown",
   "metadata": {},
   "source": [
    "And now let's looks at the dataset again to see the result"
   ]
  },
  {
   "cell_type": "code",
   "execution_count": 42,
   "metadata": {},
   "outputs": [
    {
     "data": {
      "text/html": [
       "<div>\n",
       "<style scoped>\n",
       "    .dataframe tbody tr th:only-of-type {\n",
       "        vertical-align: middle;\n",
       "    }\n",
       "\n",
       "    .dataframe tbody tr th {\n",
       "        vertical-align: top;\n",
       "    }\n",
       "\n",
       "    .dataframe thead th {\n",
       "        text-align: right;\n",
       "    }\n",
       "</style>\n",
       "<table border=\"1\" class=\"dataframe\">\n",
       "  <thead>\n",
       "    <tr style=\"text-align: right;\">\n",
       "      <th></th>\n",
       "      <th>County_Name</th>\n",
       "      <th>GEO_ID</th>\n",
       "      <th>Population Estimate</th>\n",
       "      <th>B01003_001M</th>\n",
       "      <th>NAME</th>\n",
       "      <th>B01003_001EA</th>\n",
       "      <th>B01003_001MA</th>\n",
       "      <th>state</th>\n",
       "      <th>county</th>\n",
       "    </tr>\n",
       "  </thead>\n",
       "  <tbody>\n",
       "    <tr>\n",
       "      <th>0</th>\n",
       "      <td>Autauga County, Alabama</td>\n",
       "      <td>0500000US01001</td>\n",
       "      <td>55200</td>\n",
       "      <td>-555555555</td>\n",
       "      <td>Autauga County, Alabama</td>\n",
       "      <td>None</td>\n",
       "      <td>*****</td>\n",
       "      <td>01</td>\n",
       "      <td>001</td>\n",
       "    </tr>\n",
       "    <tr>\n",
       "      <th>1</th>\n",
       "      <td>Baldwin County, Alabama</td>\n",
       "      <td>0500000US01003</td>\n",
       "      <td>208107</td>\n",
       "      <td>-555555555</td>\n",
       "      <td>Baldwin County, Alabama</td>\n",
       "      <td>None</td>\n",
       "      <td>*****</td>\n",
       "      <td>01</td>\n",
       "      <td>003</td>\n",
       "    </tr>\n",
       "    <tr>\n",
       "      <th>2</th>\n",
       "      <td>Barbour County, Alabama</td>\n",
       "      <td>0500000US01005</td>\n",
       "      <td>25782</td>\n",
       "      <td>-555555555</td>\n",
       "      <td>Barbour County, Alabama</td>\n",
       "      <td>None</td>\n",
       "      <td>*****</td>\n",
       "      <td>01</td>\n",
       "      <td>005</td>\n",
       "    </tr>\n",
       "    <tr>\n",
       "      <th>3</th>\n",
       "      <td>Bibb County, Alabama</td>\n",
       "      <td>0500000US01007</td>\n",
       "      <td>22527</td>\n",
       "      <td>-555555555</td>\n",
       "      <td>Bibb County, Alabama</td>\n",
       "      <td>None</td>\n",
       "      <td>*****</td>\n",
       "      <td>01</td>\n",
       "      <td>007</td>\n",
       "    </tr>\n",
       "    <tr>\n",
       "      <th>4</th>\n",
       "      <td>Blount County, Alabama</td>\n",
       "      <td>0500000US01009</td>\n",
       "      <td>57645</td>\n",
       "      <td>-555555555</td>\n",
       "      <td>Blount County, Alabama</td>\n",
       "      <td>None</td>\n",
       "      <td>*****</td>\n",
       "      <td>01</td>\n",
       "      <td>009</td>\n",
       "    </tr>\n",
       "  </tbody>\n",
       "</table>\n",
       "</div>"
      ],
      "text/plain": [
       "               County_Name          GEO_ID Population Estimate B01003_001M  \\\n",
       "0  Autauga County, Alabama  0500000US01001               55200  -555555555   \n",
       "1  Baldwin County, Alabama  0500000US01003              208107  -555555555   \n",
       "2  Barbour County, Alabama  0500000US01005               25782  -555555555   \n",
       "3     Bibb County, Alabama  0500000US01007               22527  -555555555   \n",
       "4   Blount County, Alabama  0500000US01009               57645  -555555555   \n",
       "\n",
       "                      NAME B01003_001EA B01003_001MA state county  \n",
       "0  Autauga County, Alabama         None        *****    01    001  \n",
       "1  Baldwin County, Alabama         None        *****    01    003  \n",
       "2  Barbour County, Alabama         None        *****    01    005  \n",
       "3     Bibb County, Alabama         None        *****    01    007  \n",
       "4   Blount County, Alabama         None        *****    01    009  "
      ]
     },
     "execution_count": 42,
     "metadata": {},
     "output_type": "execute_result"
    }
   ],
   "source": [
    "pop_df.head()"
   ]
  },
  {
   "cell_type": "markdown",
   "metadata": {},
   "source": [
    "Nice! We successfully renamed our variable of interest from that obscure variable name to something useful. Note that in Pandas, we can include spaces in the column names! That's very different than statistical packages like SAS or Stata. \n",
    "\n",
    "### Now you try!\n",
    "\n",
    "In this dataset, the variables \"state\" and \"county\" refer to the state FIPS code and county FIPS code. Those are numerical two digit and three digit codes, respectively, that uniquely identify states and counties within a state. Rename those two variables to \"state_fips\" and \"county_fips\" using the `.rename()` function. "
   ]
  },
  {
   "cell_type": "code",
   "execution_count": null,
   "metadata": {},
   "outputs": [],
   "source": []
  },
  {
   "cell_type": "markdown",
   "metadata": {},
   "source": [
    "The Census data also includes some columns that we don't really need, such as \"Name\", which looks like a duplicate of \"County_Name\". We can drop columns using the `.drop()` command. In this instance, we pass a *list* of columns we'd like to drop to the `columns` argument of the `.drop()` method. See below for an example"
   ]
  },
  {
   "cell_type": "code",
   "execution_count": 43,
   "metadata": {},
   "outputs": [
    {
     "data": {
      "text/html": [
       "<div>\n",
       "<style scoped>\n",
       "    .dataframe tbody tr th:only-of-type {\n",
       "        vertical-align: middle;\n",
       "    }\n",
       "\n",
       "    .dataframe tbody tr th {\n",
       "        vertical-align: top;\n",
       "    }\n",
       "\n",
       "    .dataframe thead th {\n",
       "        text-align: right;\n",
       "    }\n",
       "</style>\n",
       "<table border=\"1\" class=\"dataframe\">\n",
       "  <thead>\n",
       "    <tr style=\"text-align: right;\">\n",
       "      <th></th>\n",
       "      <th>County_Name</th>\n",
       "      <th>GEO_ID</th>\n",
       "      <th>Population Estimate</th>\n",
       "      <th>B01003_001M</th>\n",
       "      <th>B01003_001EA</th>\n",
       "      <th>B01003_001MA</th>\n",
       "      <th>state</th>\n",
       "      <th>county</th>\n",
       "    </tr>\n",
       "  </thead>\n",
       "  <tbody>\n",
       "    <tr>\n",
       "      <th>0</th>\n",
       "      <td>Autauga County, Alabama</td>\n",
       "      <td>0500000US01001</td>\n",
       "      <td>55200</td>\n",
       "      <td>-555555555</td>\n",
       "      <td>None</td>\n",
       "      <td>*****</td>\n",
       "      <td>01</td>\n",
       "      <td>001</td>\n",
       "    </tr>\n",
       "    <tr>\n",
       "      <th>1</th>\n",
       "      <td>Baldwin County, Alabama</td>\n",
       "      <td>0500000US01003</td>\n",
       "      <td>208107</td>\n",
       "      <td>-555555555</td>\n",
       "      <td>None</td>\n",
       "      <td>*****</td>\n",
       "      <td>01</td>\n",
       "      <td>003</td>\n",
       "    </tr>\n",
       "    <tr>\n",
       "      <th>2</th>\n",
       "      <td>Barbour County, Alabama</td>\n",
       "      <td>0500000US01005</td>\n",
       "      <td>25782</td>\n",
       "      <td>-555555555</td>\n",
       "      <td>None</td>\n",
       "      <td>*****</td>\n",
       "      <td>01</td>\n",
       "      <td>005</td>\n",
       "    </tr>\n",
       "    <tr>\n",
       "      <th>3</th>\n",
       "      <td>Bibb County, Alabama</td>\n",
       "      <td>0500000US01007</td>\n",
       "      <td>22527</td>\n",
       "      <td>-555555555</td>\n",
       "      <td>None</td>\n",
       "      <td>*****</td>\n",
       "      <td>01</td>\n",
       "      <td>007</td>\n",
       "    </tr>\n",
       "    <tr>\n",
       "      <th>4</th>\n",
       "      <td>Blount County, Alabama</td>\n",
       "      <td>0500000US01009</td>\n",
       "      <td>57645</td>\n",
       "      <td>-555555555</td>\n",
       "      <td>None</td>\n",
       "      <td>*****</td>\n",
       "      <td>01</td>\n",
       "      <td>009</td>\n",
       "    </tr>\n",
       "  </tbody>\n",
       "</table>\n",
       "</div>"
      ],
      "text/plain": [
       "               County_Name          GEO_ID Population Estimate B01003_001M  \\\n",
       "0  Autauga County, Alabama  0500000US01001               55200  -555555555   \n",
       "1  Baldwin County, Alabama  0500000US01003              208107  -555555555   \n",
       "2  Barbour County, Alabama  0500000US01005               25782  -555555555   \n",
       "3     Bibb County, Alabama  0500000US01007               22527  -555555555   \n",
       "4   Blount County, Alabama  0500000US01009               57645  -555555555   \n",
       "\n",
       "  B01003_001EA B01003_001MA state county  \n",
       "0         None        *****    01    001  \n",
       "1         None        *****    01    003  \n",
       "2         None        *****    01    005  \n",
       "3         None        *****    01    007  \n",
       "4         None        *****    01    009  "
      ]
     },
     "execution_count": 43,
     "metadata": {},
     "output_type": "execute_result"
    }
   ],
   "source": [
    "pop_df = pop_df.drop(columns=[\"NAME\"])\n",
    "pop_df.head()"
   ]
  },
  {
   "cell_type": "markdown",
   "metadata": {},
   "source": [
    "### Now you try!\n",
    "\n",
    "Use the `.drop()` function to drop the three variables that begin with \"B01003\" and then print the first five observations of the new dataset using the `.head()` function."
   ]
  },
  {
   "cell_type": "code",
   "execution_count": null,
   "metadata": {},
   "outputs": [],
   "source": [
    "pop_df = pop_df.drop(columns=[\"B01003_001M\", \"B01003_001EA\", \"B01003_001MA\"])"
   ]
  },
  {
   "cell_type": "code",
   "execution_count": 47,
   "metadata": {},
   "outputs": [
    {
     "data": {
      "text/html": [
       "<div>\n",
       "<style scoped>\n",
       "    .dataframe tbody tr th:only-of-type {\n",
       "        vertical-align: middle;\n",
       "    }\n",
       "\n",
       "    .dataframe tbody tr th {\n",
       "        vertical-align: top;\n",
       "    }\n",
       "\n",
       "    .dataframe thead th {\n",
       "        text-align: right;\n",
       "    }\n",
       "</style>\n",
       "<table border=\"1\" class=\"dataframe\">\n",
       "  <thead>\n",
       "    <tr style=\"text-align: right;\">\n",
       "      <th></th>\n",
       "      <th>County_Name</th>\n",
       "      <th>GEO_ID</th>\n",
       "      <th>Population Estimate</th>\n",
       "      <th>state</th>\n",
       "      <th>county</th>\n",
       "    </tr>\n",
       "  </thead>\n",
       "  <tbody>\n",
       "    <tr>\n",
       "      <th>0</th>\n",
       "      <td>Autauga County, Alabama</td>\n",
       "      <td>0500000US01001</td>\n",
       "      <td>55200</td>\n",
       "      <td>01</td>\n",
       "      <td>001</td>\n",
       "    </tr>\n",
       "    <tr>\n",
       "      <th>1</th>\n",
       "      <td>Baldwin County, Alabama</td>\n",
       "      <td>0500000US01003</td>\n",
       "      <td>208107</td>\n",
       "      <td>01</td>\n",
       "      <td>003</td>\n",
       "    </tr>\n",
       "    <tr>\n",
       "      <th>2</th>\n",
       "      <td>Barbour County, Alabama</td>\n",
       "      <td>0500000US01005</td>\n",
       "      <td>25782</td>\n",
       "      <td>01</td>\n",
       "      <td>005</td>\n",
       "    </tr>\n",
       "    <tr>\n",
       "      <th>3</th>\n",
       "      <td>Bibb County, Alabama</td>\n",
       "      <td>0500000US01007</td>\n",
       "      <td>22527</td>\n",
       "      <td>01</td>\n",
       "      <td>007</td>\n",
       "    </tr>\n",
       "    <tr>\n",
       "      <th>4</th>\n",
       "      <td>Blount County, Alabama</td>\n",
       "      <td>0500000US01009</td>\n",
       "      <td>57645</td>\n",
       "      <td>01</td>\n",
       "      <td>009</td>\n",
       "    </tr>\n",
       "  </tbody>\n",
       "</table>\n",
       "</div>"
      ],
      "text/plain": [
       "               County_Name          GEO_ID Population Estimate state county\n",
       "0  Autauga County, Alabama  0500000US01001               55200    01    001\n",
       "1  Baldwin County, Alabama  0500000US01003              208107    01    003\n",
       "2  Barbour County, Alabama  0500000US01005               25782    01    005\n",
       "3     Bibb County, Alabama  0500000US01007               22527    01    007\n",
       "4   Blount County, Alabama  0500000US01009               57645    01    009"
      ]
     },
     "execution_count": 47,
     "metadata": {},
     "output_type": "execute_result"
    }
   ],
   "source": [
    "pop_df.head()"
   ]
  },
  {
   "cell_type": "code",
   "execution_count": null,
   "metadata": {},
   "outputs": [],
   "source": []
  }
 ],
 "metadata": {
  "kernelspec": {
   "display_name": "Python 3",
   "language": "python",
   "name": "python3"
  },
  "language_info": {
   "codemirror_mode": {
    "name": "ipython",
    "version": 3
   },
   "file_extension": ".py",
   "mimetype": "text/x-python",
   "name": "python",
   "nbconvert_exporter": "python",
   "pygments_lexer": "ipython3",
   "version": "3.7.0"
  }
 },
 "nbformat": 4,
 "nbformat_minor": 4
}
