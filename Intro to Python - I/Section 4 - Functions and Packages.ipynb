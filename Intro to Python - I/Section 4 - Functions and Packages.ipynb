{
 "cells": [
  {
   "cell_type": "markdown",
   "metadata": {},
   "source": [
    "# Section 4: Functions and Packages\n",
    "\n",
    "# Defining Functions and Importing Python Packages\n",
    "-------------------------------------------\n",
    "\n",
    "Towards the end of Section 3, we introduced the `import` function and the Python `random` package. In this section we will explain more about Python packages and also how to write your own functions.  "
   ]
  },
  {
   "cell_type": "markdown",
   "metadata": {},
   "source": [
    "## Part 1: Packages\n",
    "\n",
    "Packages, also known as libraries or modules, are external pre-packaged Python scripts that can be imported in order to quickly and concisely expand Python's functionality. Some packages, such as `random` and `math` come by default with any  Python installation, while others are written externally and need to be downloaded to your computer. For now, we will work with just built-in Python packages.\n",
    "\n",
    "In Section 2, we covered basic mathematical operations in Python. What if, however, we wanted to use more complex mathematical functions such as log? That function, while not native to Python in the same way as the addition or division operators, is part of Python's `math` library, and could be accessed in the following way"
   ]
  },
  {
   "cell_type": "code",
   "execution_count": null,
   "metadata": {},
   "outputs": [],
   "source": [
    "import math\n",
    "log_10 = math.log10(10)"
   ]
  },
  {
   "cell_type": "markdown",
   "metadata": {},
   "source": [
    "*Note that functions derived from packages typically follow the following syntax - `'package name'.'function name'()`"
   ]
  },
  {
   "cell_type": "markdown",
   "metadata": {},
   "source": [
    "If you know which function in package you'd like to use and don't want to constantly type the package name before each function call, you can also import just the function directly, like below"
   ]
  },
  {
   "cell_type": "code",
   "execution_count": null,
   "metadata": {},
   "outputs": [],
   "source": [
    "from math import log10\n",
    "log_100 = log10(100)"
   ]
  },
  {
   "cell_type": "markdown",
   "metadata": {},
   "source": [
    "How do you learn more about a package? Good package developers provide a multitude of ways for you to learn more about a package or function. The most common way is online documentation. For example, a simple Google search of \"math package python\" yields the following website https://docs.python.org/3.7/library/math.html. This website provides a list of all of the functions associated with the `math` package and also explanations of how each function is used. \n",
    "\n",
    "### Now you try!\n",
    "\n",
    "Go to the documentation website for the `random` package by clicking on this url https://docs.python.org/3.7/library/random.html. Then, write code using this package that gets a random number between 0 (inclusive) and 1 (not inclusive) and stores it in a variable called `random_num`.\n"
   ]
  },
  {
   "cell_type": "code",
   "execution_count": null,
   "metadata": {},
   "outputs": [],
   "source": []
  },
  {
   "cell_type": "markdown",
   "metadata": {},
   "source": [
    "## Part 2: The Dot Operator"
   ]
  },
  {
   "cell_type": "markdown",
   "metadata": {},
   "source": [
    "We didn't define it explicitly, but in Part 1 we introduced the *dot operator*, which in the case of `math.log10(x)` is the period in between `math` and `log10`. The dot operator, more generally, accesses a Python object's methods or attributes. We will talk about attributes in Python Part II, but below we'll show you that many of the basic Python objects we introduced in Sections 1 through 3 actually have methods/functions associated with them that can be accessed with the dot operator. \n",
    "\n",
    "Below is an example of some of the useful methods associated with strings."
   ]
  },
  {
   "cell_type": "code",
   "execution_count": null,
   "metadata": {},
   "outputs": [],
   "source": [
    "lower_case_str = \"Hello World!\".lower() #Return a lowercase version of the str\n",
    "upper_case_str = \"Hello World!\".upper() #Return an uppercase version of the str\n",
    "no_commas = \"Hello World\".replace(\"!\", \"\") #Replace values \n",
    "\n",
    "print(lower_case_str, upper_case_str, no_commas)"
   ]
  },
  {
   "cell_type": "markdown",
   "metadata": {},
   "source": [
    "### Now you try! \n",
    "\n",
    "Call the `.split()` method on \"Hello World!\" and assign the output to the variable `split_str`. Then, print `split_str`. What did this function do?"
   ]
  },
  {
   "cell_type": "code",
   "execution_count": null,
   "metadata": {},
   "outputs": [],
   "source": []
  },
  {
   "cell_type": "markdown",
   "metadata": {},
   "source": [
    "In addition to strings, lists also have a couple very helpful built-in methods. For example, we showed that values can be added to lists by using the addition operator. However, we can also add items to lists using the `.append()` method which adds values to the end of an existing list. \n"
   ]
  },
  {
   "cell_type": "code",
   "execution_count": null,
   "metadata": {},
   "outputs": [],
   "source": [
    "letters = [\"a\", \"b\", \"c\"]\n",
    "letters.append(\"d\")\n",
    "print(letters)"
   ]
  },
  {
   "cell_type": "markdown",
   "metadata": {},
   "source": [
    "You may notice that there is no equals sign before the call to the `.append()` method, i.e. the result is not stored in a variable. This is because the `.append()` method, as opposed to the `.lower()` and `.replace()` string methods, modifies the object *in place*. In other words, it modifies the list automatically, without needing to be assigned to a variable.\n",
    "\n",
    "What happens, then, if we try to assign the output of the `.append()` method to a variable?"
   ]
  },
  {
   "cell_type": "code",
   "execution_count": null,
   "metadata": {},
   "outputs": [],
   "source": [
    "numbers = [1, 2, 3]\n",
    "new_numbers = numbers.append(4)\n",
    "print(new_numbers)\n",
    "print(numbers)"
   ]
  },
  {
   "cell_type": "markdown",
   "metadata": {},
   "source": [
    "In this case, the `.append()` command returns `None`. That's because the function has nothing to return as it has already completed its inteded action - adding a value to the end of the list.\n",
    "\n",
    "\n",
    "This isn't the case for all methods associated with lists, however. For example, the `.count()` function returns the number of times a value shows up in a list."
   ]
  },
  {
   "cell_type": "code",
   "execution_count": null,
   "metadata": {},
   "outputs": [],
   "source": [
    "letter_list = [\"c\", \"h\", \"a\", \"r\", \"l\", \"e\", \"s\", \" \", \"r\", \"i\", \"v\", \"e\", \"r\"]\n",
    "r_count = letter_list.count(\"r\")\n",
    "print(r_count)"
   ]
  },
  {
   "cell_type": "markdown",
   "metadata": {},
   "source": [
    "### Now you try!\n",
    "\n",
    "Another useful list method include `.sort()`. Note that, like `.append()`, this function also modify the list *in place* rather than return a new version of the list. \n",
    "\n",
    "In the code below, sort `example_list` using the `.sort()` method"
   ]
  },
  {
   "cell_type": "code",
   "execution_count": null,
   "metadata": {},
   "outputs": [],
   "source": [
    "example_list = [\"b\", \"a\", \"d\", \"c\", \"a\", \"t\"]\n",
    "\n",
    "print(example_list)"
   ]
  },
  {
   "cell_type": "markdown",
   "metadata": {},
   "source": [
    "Note that the `.sort()` function sorts the list based on the type of data in the list, in this case character/string data. "
   ]
  },
  {
   "cell_type": "markdown",
   "metadata": {},
   "source": [
    "## Part 3: Writing Your Own Function "
   ]
  },
  {
   "cell_type": "markdown",
   "metadata": {},
   "source": [
    "What if rather than import a function from elsewhere, you want to write your own function? That is easily done in Python with the `def` command. For example, we can wrap the While Loop we wrote in Section 3 in a function that returns the number of flips it takes to get a heads. "
   ]
  },
  {
   "cell_type": "code",
   "execution_count": null,
   "metadata": {},
   "outputs": [],
   "source": [
    "import random\n",
    "\n",
    "def count_flips():\n",
    "    heads = False\n",
    "    flips = 0\n",
    "    while not heads:\n",
    "        num = random.randint(0, 1)\n",
    "        if num == 1:\n",
    "            heads = True\n",
    "        flips += 1\n",
    "    return flips\n",
    "\n",
    "num_flips = count_flips()\n",
    "print(num_flips)"
   ]
  },
  {
   "cell_type": "markdown",
   "metadata": {},
   "source": [
    "Note a couple of things about the above code. Firstly, note that the `import` statement is outside of the function definition. That is because we only need import the `random` package once, we don't want to import it every time we call the function! Secondly, we define the function by writing\n",
    "\n",
    "`def <function name>():`\n",
    "\n",
    "Defining the function is pretty simple! Note that the function name cannot have any spaces. After defining the function, we indent the code so that Python knows which code to include in the function. Luckily, like with `if` statments and loops, most Python code editors like Spyder and Jupyter Notebooks do this automatically. Finally, at the end of the function, we return a variable using the `return` statement. The `return` statement specifies the values or variables that we want to pass along at the end of the function. In this case, we pass along the number of coin flips it took to get a heads. \n",
    "\n",
    "You might ask, does every function have to return something? In the `count_flips()` function above, delete the return statement and instead print the number of coin flips it took to get a heads to the console. Then, rerun the whole code block.\n",
    "What is the value of `num_flips`? Did the print statement print?"
   ]
  },
  {
   "cell_type": "markdown",
   "metadata": {},
   "source": [
    "In the `count_flips()` function above, the user doesn't provide any inputs to the function, so the function is run the same way every time. Below is a new function, called `say_my_name()`, that prints `\"Hello, my name is \"` and then the user's name. In this case, the function takes one *argument*, or input, which is called `name`. "
   ]
  },
  {
   "cell_type": "code",
   "execution_count": null,
   "metadata": {},
   "outputs": [],
   "source": [
    "def say_my_name(name):\n",
    "    print(\"Hello! My name is \" + name + \".\")\n",
    "say_my_name(\"Christian\")"
   ]
  },
  {
   "cell_type": "markdown",
   "metadata": {},
   "source": [
    "Function arguments can also be given default values in their definition. In the function below, we add a second argument, `greeting`, and set `greeting` to be `\"Hello\"` by default. However, the user still has the flexibility to change the `greeting` value if they want to."
   ]
  },
  {
   "cell_type": "code",
   "execution_count": null,
   "metadata": {},
   "outputs": [],
   "source": [
    "def say_my_name(name, greeting=\"Hello\"):\n",
    "    print(greeting + \"! My name is \" + name + \".\")\n",
    "    \n",
    "say_my_name(\"Christian\")\n",
    "say_my_name(\"Christian\", \"Hi\")"
   ]
  },
  {
   "cell_type": "markdown",
   "metadata": {},
   "source": [
    "Function arguments with default values are called *optional* arguments while arguments with no default value are called *required* arguments. \n",
    "\n",
    "Note that when defining a function, optional arguments must always come after all required arguments. "
   ]
  },
  {
   "cell_type": "markdown",
   "metadata": {},
   "source": [
    "### Now you try! \n",
    "\n",
    "Below, write a function called `alt_caps()` that takes a string as an input and returns a string where characters alternate between uppercase and lowercase. Hint: Remember that strings are iterables!\n"
   ]
  },
  {
   "cell_type": "code",
   "execution_count": null,
   "metadata": {},
   "outputs": [],
   "source": [
    "\n",
    "\n",
    "#print(alt_caps(\"Charles River Associates\"))"
   ]
  }
 ],
 "metadata": {
  "kernelspec": {
   "display_name": "Python 3",
   "language": "python",
   "name": "python3"
  },
  "language_info": {
   "codemirror_mode": {
    "name": "ipython",
    "version": 3
   },
   "file_extension": ".py",
   "mimetype": "text/x-python",
   "name": "python",
   "nbconvert_exporter": "python",
   "pygments_lexer": "ipython3",
   "version": "3.7.0"
  }
 },
 "nbformat": 4,
 "nbformat_minor": 4
}
