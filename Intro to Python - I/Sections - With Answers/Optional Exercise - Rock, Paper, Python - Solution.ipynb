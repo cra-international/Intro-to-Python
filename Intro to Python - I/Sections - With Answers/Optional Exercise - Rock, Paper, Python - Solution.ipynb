{
 "cells": [
  {
   "cell_type": "markdown",
   "metadata": {},
   "source": [
    "# Optional Exercise: Rock, Paper, Python\n",
    "------------------\n",
    "\n",
    "In the below exercise you'll build a rock, paper, scissors game all in Python! The exercise will comprise of building three main functions, each of which is explained in more detail. A fourth function is defined for you at the bottom. At the end of the exercise, a user should be able to simply call the ` play_rps()` function to play a game of Rock, Paper, Python!"
   ]
  },
  {
   "cell_type": "markdown",
   "metadata": {},
   "source": [
    "### Part 1: Import Packages\n",
    "\n",
    "Below, we import the Python packages `random` and `time`. You'll use these packages below."
   ]
  },
  {
   "cell_type": "code",
   "execution_count": 1,
   "metadata": {},
   "outputs": [],
   "source": [
    "import random\n",
    "import time"
   ]
  },
  {
   "cell_type": "markdown",
   "metadata": {},
   "source": [
    "### Part 2: Have Python Pick Rock, Paper, or Scissors\n",
    "\n",
    "In the below code block, use the `random` package to define a function called `generate_rps()` that returns either `\"rock\"`, `\"paper\"`, or `\"scissors\"` with equal probability."
   ]
  },
  {
   "cell_type": "code",
   "execution_count": null,
   "metadata": {},
   "outputs": [],
   "source": [
    "def generate_rps():\n",
    "    rand_num = random.randint(1, 3)\n",
    "    if rand_num == 1:\n",
    "        return \"rock\"\n",
    "    elif rand_num == 2:\n",
    "        return \"paper\"\n",
    "    else:\n",
    "        return \"scissors\""
   ]
  },
  {
   "cell_type": "markdown",
   "metadata": {},
   "source": [
    "### Part 3: Get User Input\n",
    "\n",
    "Now, write a function called `get_rps()` that asks the user whether they'd like to play `\"rock\"`, `\"paper\"`, or `\"scissors\"` and then returns the user's response. Make sure the output of the function is returned in lowercase, even if the user includes one or more capital letter in their response."
   ]
  },
  {
   "cell_type": "code",
   "execution_count": null,
   "metadata": {},
   "outputs": [],
   "source": [
    "def get_rps():\n",
    "    while True:\n",
    "        resp = input(\"Which to you select? Rock, Paper, or Scissors? \")\n",
    "\n",
    "            return resp.lower()"
   ]
  },
  {
   "cell_type": "markdown",
   "metadata": {},
   "source": [
    "### Part 4: See Who Wins\n",
    "\n",
    "Now, write a function called `compare_rps()` that compares the user's response from `get_rps()` to the computer generated value from `generate_rps()`. Return a response of `\"You win!\"` if the user wins, `\"The computer wins!\"` if the computer wins, or `\"It's a tie!\"` if it's a tie. Remember, rock beats scissors but loses to paper, scissors beats paper but loses to rock, and paper beats rock but loses to scissors."
   ]
  },
  {
   "cell_type": "code",
   "execution_count": null,
   "metadata": {},
   "outputs": [],
   "source": []
  },
  {
   "cell_type": "markdown",
   "metadata": {},
   "source": [
    "### Part 5: Play the Game!\n",
    "\n",
    "Write the function `play_rps()` that pulls from the previous three functions. This function should complete the following steps:\n",
    "1. Get the user response and the print back to the user what they selected.\n",
    "2. Run the code `time.sleep(1.5)` which tells Python to pause for 1.5 seconds before running the next function.\n",
    "3. Get the computer generated response using the `generate_rps()` function and then print the computer's selection to the console. \n",
    "4. Tell Python to pause for another 1.5 seconds so the user has time to read what the computer selected. \n",
    "5. Finally, print the response returned by the `compare_rps()` function to let the user know the result!"
   ]
  },
  {
   "cell_type": "code",
   "execution_count": 3,
   "metadata": {},
   "outputs": [],
   "source": []
  },
  {
   "cell_type": "markdown",
   "metadata": {},
   "source": [
    "Then, run the `play_rps()` function below to play a game of Rock, Paper, Python!"
   ]
  },
  {
   "cell_type": "code",
   "execution_count": null,
   "metadata": {},
   "outputs": [],
   "source": [
    "play_rps()"
   ]
  },
  {
   "cell_type": "markdown",
   "metadata": {},
   "source": [
    "## Possible Extensions:\n",
    "\n",
    "In the above exercise, you built your very own rock, paper, scissors game using Python. If you're looking for more of a challenge, try adding the following features to your game! \n",
    "\n",
    "*Note: Each extension builds upon the previous extensions, so you'll need to complete them in order*\n",
    "\n",
    "* In  the `get_rps()` function, only allow the user to give a valid response. To do this, place your existing code into a While loop. Then if the user gives a valid response, return the user's response, which will automatically exist the While Loop. If the response is not valid, then print `\"Sorry, that's not a valid response. Please try again.\"`. The While Loop will force the user to keep responding until they provide valid input.\n",
    "\n",
    "\n",
    "* Currently, the user has to rerun the `play_rps()` function every time they wish to play a game of Rock, Paper, Python. Update the `play_rps()` function so that the user plays indefinitely. At the end of each game, ask the user if they wish to stop playing and then end the game if they say they'd like to stop. If the user indicates they'd like to continue, print some statistics about the previous games, such as wins, losses, ties, and how many times they've played each of \"rock\", \"paper\", and \"scissors\" before starting the next game.\n",
    "\n",
    "\n",
    "* In the above game, the computer selects \"rock\", \"paper\", or \"scissors\" at random, which is the optimal strategy in Rock, Paper, Scissors. In real life, however, people are rarely able to be completely random. Update the computer's strategy so that at the very start it selects one of \"rock\", \"paper\", or \"scissors\" to chose with 40% probability and the other two with 30% probability for the following games. (You'll need to have incorporated the above two extensions for this to work). Make this selection random so that each time you start up Rock, Paper, Python, you don't know which play the computer will be favoring. Then play against the computer. Can you identify the tell? Once you've identified it, what's your optimal strategy?"
   ]
  },
  {
   "cell_type": "code",
   "execution_count": null,
   "metadata": {},
   "outputs": [],
   "source": []
  }
 ],
 "metadata": {
  "kernelspec": {
   "display_name": "Python 3",
   "language": "python",
   "name": "python3"
  },
  "language_info": {
   "codemirror_mode": {
    "name": "ipython",
    "version": 3
   },
   "file_extension": ".py",
   "mimetype": "text/x-python",
   "name": "python",
   "nbconvert_exporter": "python",
   "pygments_lexer": "ipython3",
   "version": "3.7.0"
  }
 },
 "nbformat": 4,
 "nbformat_minor": 4
}
