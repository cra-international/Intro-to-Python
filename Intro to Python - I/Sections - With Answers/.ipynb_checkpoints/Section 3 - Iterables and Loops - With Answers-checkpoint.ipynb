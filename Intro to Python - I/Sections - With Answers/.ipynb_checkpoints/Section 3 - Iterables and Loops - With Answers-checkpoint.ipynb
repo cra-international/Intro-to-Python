{
 "cells": [
  {
   "cell_type": "markdown",
   "metadata": {},
   "source": [
    "# Section 3: Iterables and Loops - With Answers\n",
    "\n",
    "# Lists, Dictionaries, and For and While Loops\n",
    "------------------------------------------------------\n",
    "\n",
    "Section 1 covered the basic Python variables: integers, floats, booleans, and strings. Now, we'll cover the more complex data types of lists and dictionaries. We'll also discuss For and While loops, as well as iterables."
   ]
  },
  {
   "cell_type": "markdown",
   "metadata": {},
   "source": [
    "## Part 1: Lists\n",
    "\n",
    "A list, another variables type in Python, is a ordered and mutable collection of other Python variables. \n",
    "\n",
    "For example, we may want to make sure a user, when typing in their date of birth, types in a valid month. If so, we can build a list of months to reference against their input, like in the following code."
   ]
  },
  {
   "cell_type": "code",
   "execution_count": null,
   "metadata": {},
   "outputs": [],
   "source": [
    "valid_months = [\"January\", \"Febuary\", \"March\", \"April\", \"May\", \"June\", \n",
    "                \"July\", \"August\", \"September\", \"October\", \"November\", \"December\"]"
   ]
  },
  {
   "cell_type": "markdown",
   "metadata": {},
   "source": [
    "In the above code, we create a variable called `valid_months` and assign it a *list* of string values, in this case the names of each month. In the same way as quotation marks are used to create strings, brackets are used to create lists. \n",
    "\n",
    "Lists are indexable, which means individual elements can be accessed by their position in the list. Lists are zero-indexed, meaning the index starts at zero rather than one. Therefore, we can assign \"January\" to the variable `first_month` using *positional indexing* by indicating we want to pull the zero-ith value from the list, as below"
   ]
  },
  {
   "cell_type": "code",
   "execution_count": null,
   "metadata": {},
   "outputs": [],
   "source": [
    "first_month = valid_months[0]\n",
    "print(first_month)"
   ]
  },
  {
   "cell_type": "markdown",
   "metadata": {},
   "source": [
    "*Note that positional indexing follows a specific structure - the name of the variable followed by the index number in brackets*."
   ]
  },
  {
   "cell_type": "markdown",
   "metadata": {},
   "source": [
    "Additionally, lists are mutable, which mean that we can also use indexing to change values in a list. \n",
    "\n",
    "It looks like \"February\" is misspelled in the `valid_months` variable. That value can be updated by doing the following:"
   ]
  },
  {
   "cell_type": "code",
   "execution_count": null,
   "metadata": {},
   "outputs": [],
   "source": [
    "valid_months[1] = \"February\" #Remember, the second position = index 1"
   ]
  },
  {
   "cell_type": "markdown",
   "metadata": {},
   "source": [
    "Now if we print `valid_months`, we'll see that February is spelled correctly."
   ]
  },
  {
   "cell_type": "code",
   "execution_count": null,
   "metadata": {},
   "outputs": [],
   "source": [
    "print(valid_months)"
   ]
  },
  {
   "cell_type": "markdown",
   "metadata": {},
   "source": [
    "More than one item in a list can be accessed using positional indexing. To access multiple items, we can pass a range of indices, where the range is the beginning index position, followed by a colon, followed by the ending position, not inclusive. Below, the fourth, fifth, and sixth items of the list are taken and stored into a new list called `spring_months`."
   ]
  },
  {
   "cell_type": "code",
   "execution_count": null,
   "metadata": {},
   "outputs": [],
   "source": [
    "spring_months = valid_months[3:6] \n",
    "print(spring_months)"
   ]
  },
  {
   "cell_type": "markdown",
   "metadata": {},
   "source": [
    "*Note: Remember, the upper end of the range is not inclusive, so the above code pulls the values stored at indices 3, 4, and 5.*"
   ]
  },
  {
   "cell_type": "markdown",
   "metadata": {},
   "source": [
    "If a number is not specified on right side of the colon, all values from the beginning index to the end of the list are accessed. Similarly, if no index is specified on the left side of the colon, all values from the beginning of the list to the ending index (not inclusive) are accessed."
   ]
  },
  {
   "cell_type": "code",
   "execution_count": null,
   "metadata": {},
   "outputs": [],
   "source": [
    "early_months = valid_months[:6]\n",
    "later_months = valid_months[6:]\n",
    "print(early_months)\n",
    "print(later_months)"
   ]
  },
  {
   "cell_type": "markdown",
   "metadata": {},
   "source": [
    "Lists also support negative indexing, which are interpreted as the number of positions from the end of the list, rather than from the beginning of the list. "
   ]
  },
  {
   "cell_type": "code",
   "execution_count": null,
   "metadata": {},
   "outputs": [],
   "source": [
    "non_fall_months = valid_months[:-3]\n",
    "print(non_fall_months)"
   ]
  },
  {
   "cell_type": "markdown",
   "metadata": {},
   "source": [
    "### Now you try! \n",
    "\n",
    "Below is a list of the top 10 picks of the 2020 NFL draft in draft order. Use your knowledge of lists to create the variables below. Make sure to un-comment the variables by deleting the number sign `#` before executing the code. "
   ]
  },
  {
   "cell_type": "code",
   "execution_count": null,
   "metadata": {},
   "outputs": [],
   "source": [
    "top_10_players = [\"Joe Burrow\", \"Chase Young\", \"Jeff Okudah\", \"Andrew Thomas\", \n",
    "                  \"Tua Tagovailoa\", \"Justin Herbert\", \"Derrick Brown\", \n",
    "                  \"Isaiah Simmons\", \"C.J. Henderson\", \"Jedrick Wills\"]\n",
    "\n",
    "top_pick = top_10_players[0]\n",
    "picks_3_to_5 = top_10_players[2:5]\n",
    "top_5_picks = top_10_players[:5]\n",
    "picks_6_to_10 = top_10_players[5:]\n",
    "first_9_picks = top_10_players[:-1]"
   ]
  },
  {
   "cell_type": "markdown",
   "metadata": {},
   "source": [
    "A few more fun facts on lists! Lists are type agnostic, meaning the variables stored in a list can be of any type, even other lists!"
   ]
  },
  {
   "cell_type": "code",
   "execution_count": null,
   "metadata": {},
   "outputs": [],
   "source": [
    "random_list = [1, \"a\", True, 3.5, None, [\"a\", \"b\", \"c\"]]"
   ]
  },
  {
   "cell_type": "markdown",
   "metadata": {},
   "source": [
    "Also, addition and multiplication are defined for lists. Addition of  two lists is a new list created in left-to-right order and multiplication of a list by some scalar `n` is the same as adding the same list to itself `n` times."
   ]
  },
  {
   "cell_type": "code",
   "execution_count": null,
   "metadata": {},
   "outputs": [],
   "source": [
    "abc = [\"a\"] + [\"b\"] + [\"c\"]\n",
    "aaa = [\"a\"] * 3\n",
    "print(abc)\n",
    "print(aaa)"
   ]
  },
  {
   "cell_type": "markdown",
   "metadata": {},
   "source": [
    "## Part 2: Dictionaries\n",
    "\n",
    "As discussed above, lists are mutable and ordered and designed to be used in conjunction with positional indexing. Dictionaries, on the other hand, are mutable collections of unordered Python key-value pairs and designed to be used in conjunction with key indexing.\n",
    "\n",
    "Below is a dictionary of the top 10 picks in the NFL draft, where the key is the player's name and the value is their college."
   ]
  },
  {
   "cell_type": "code",
   "execution_count": null,
   "metadata": {},
   "outputs": [],
   "source": [
    "college_teams = {\"Joe Burrow\" : \"Louisiana State University\",\n",
    "                 \"Jeff Okudah\" : \"Ohio State\",\n",
    "                 \"Tua Tagovailoa\" : \"Alabama\",\n",
    "                 \"Chase Young\" : \"Ohio State\",\n",
    "                 \"Andrew Thomas\" : \"Georgia\",\n",
    "                 \"Justin Herbert\" : \"Oregon\",\n",
    "                 \"Derrick Brown\" : \"Auburn\",\n",
    "                 \"Isaiah Simmons\" : \"Clemson\",\n",
    "                 \"C.J. Henderson\" : \"Florida\",\n",
    "                 \"Mekhi Becton\" : \"Louisville\"}"
   ]
  },
  {
   "cell_type": "markdown",
   "metadata": {},
   "source": [
    "Dictionaries are created using curly brackets and each entry is a key-value pair where the key is separated from the value by a colon. Key-value pairs are then separated from other pairs with a comma.\n",
    "\n",
    "*Note: While values don't have to be unique within a dictionary, keys MUST be unique*"
   ]
  },
  {
   "cell_type": "markdown",
   "metadata": {},
   "source": [
    "With a dictionary, we can easily get the value associated with a specific key, such as below"
   ]
  },
  {
   "cell_type": "code",
   "execution_count": null,
   "metadata": {},
   "outputs": [],
   "source": [
    "tua_school = college_teams[\"Tua Tagovailoa\"]\n",
    "print(tua_school)"
   ]
  },
  {
   "cell_type": "markdown",
   "metadata": {},
   "source": [
    "And like lists, dictionaries are mutable, meaning we can modify specific values. For example, let's change Joe Burrow's school from `\"Louisiana State University\"` to `\"LSU\"`.  \n"
   ]
  },
  {
   "cell_type": "code",
   "execution_count": null,
   "metadata": {},
   "outputs": [],
   "source": [
    "college_teams[\"Joe Burrow\"] = \"LSU\"\n",
    "print(college_teams)"
   ]
  },
  {
   "cell_type": "markdown",
   "metadata": {},
   "source": [
    "We can also create new key-value pairs by using the same syntax. \n",
    "\n",
    "It looks like Henry Ruggs was accidentally added instead of Jedrick Wills, so lets add Jedrick Wills' school to the list."
   ]
  },
  {
   "cell_type": "code",
   "execution_count": null,
   "metadata": {},
   "outputs": [],
   "source": [
    "college_teams[\"Jedrick Wills\"] = \"Alabama\""
   ]
  },
  {
   "cell_type": "markdown",
   "metadata": {},
   "source": [
    "We can then delete specific values using Python's `del` command."
   ]
  },
  {
   "cell_type": "code",
   "execution_count": null,
   "metadata": {},
   "outputs": [],
   "source": [
    "del college_teams[\"Mekhi Becton\"]"
   ]
  },
  {
   "cell_type": "markdown",
   "metadata": {},
   "source": [
    "### Now you try! \n",
    "\n",
    "Use positional indexing and key-value indexing to print the name and school of the 6th pick in the NFL Draft."
   ]
  },
  {
   "cell_type": "code",
   "execution_count": null,
   "metadata": {},
   "outputs": [],
   "source": [
    "name = top_10_players[5]\n",
    "school = college_teams[name]\n",
    "print(\"Selected with the number 6 pick in the NFL Draft is \" + name + \" from \" + school)"
   ]
  },
  {
   "cell_type": "markdown",
   "metadata": {},
   "source": [
    "## Part 3: The For Loop\n",
    "\n",
    "Loops are incredibly helpful tools in programming as they allow you to execute code multiple times. For example, say we wanted to simply print the names of all 10 of the top 10 players. Without loops, we would have to write out 10 different print statements. That's not too terrible, but imagine doing that for all 255 players in the NFL draft! With a For loop, we can print the names in just two lines:"
   ]
  },
  {
   "cell_type": "code",
   "execution_count": null,
   "metadata": {},
   "outputs": [],
   "source": [
    "for player in top_10_players:\n",
    "    print(player)"
   ]
  },
  {
   "cell_type": "markdown",
   "metadata": {},
   "source": [
    "Let's break this down. For Loops are constructed using the following syntax:\n",
    "`for <variable> in <iterable>:` \n",
    "In the example above, I have called the variable `player` and the iterable is the list `top_10_players`. The For Loop, then, accesses each item in `top_10_players` one at a time and in order. For each item, it then executes the indented code below, in this case as simple print statement. "
   ]
  },
  {
   "cell_type": "markdown",
   "metadata": {},
   "source": [
    "We can also use For Loops in conjunction with positional indexing to access the individual items of a list, like below"
   ]
  },
  {
   "cell_type": "code",
   "execution_count": null,
   "metadata": {},
   "outputs": [],
   "source": [
    "for i in range(10):\n",
    "    print(top_10_players[i])"
   ]
  },
  {
   "cell_type": "markdown",
   "metadata": {},
   "source": [
    "In the above code, the `range()` function produces a list of integers from zero to the number specified, in this case `10`, not inclusive. We can see that clearly using the code below"
   ]
  },
  {
   "cell_type": "code",
   "execution_count": null,
   "metadata": {},
   "outputs": [],
   "source": [
    "print(list(range(10)))"
   ]
  },
  {
   "cell_type": "markdown",
   "metadata": {},
   "source": [
    "Since the the `range()` function produces a list of the individual incices of each value in `top_10_players`, we can use that to access the name of each player in the list in turn."
   ]
  },
  {
   "cell_type": "markdown",
   "metadata": {},
   "source": [
    "Above, we showed that lists are iterables, which means that each item in a list can be accessed using a For Loop. What other Python variables are also iterables? Strings are also iterables in Python! For example, we can print every character of a string like so:"
   ]
  },
  {
   "cell_type": "code",
   "execution_count": null,
   "metadata": {},
   "outputs": [],
   "source": [
    "cra = \"Charles River Associates\"\n",
    "for s in cra:\n",
    "    print(s)"
   ]
  },
  {
   "cell_type": "markdown",
   "metadata": {},
   "source": [
    "### Now you try! \n",
    "\n",
    "Use a For Loop to print the statement from the end of Part 2 for every NFL player drafted in the top 10 of the 2020 NFL Draft using the `top_10_players` and `college_teams` variables. For each player, make sure to include their position in the draft, their name, and their school in the print statement.\n",
    "\n",
    "The print statment from Part 2 is below for easy reference.\n",
    "\n",
    "```print(\"Selected with the number 6 pick in the NFL Draft is \" + name + \" from \" + school)```\n",
    "\n",
    "*Note you'll need to change \"number 6\" to reference the correct position the player was drafted in for each player in the loop.*"
   ]
  },
  {
   "cell_type": "code",
   "execution_count": null,
   "metadata": {},
   "outputs": [],
   "source": [
    "for i in range(10):\n",
    "    pick_num = i + 1\n",
    "    name = top_10_players[i]\n",
    "    school = college_teams[name]\n",
    "    print(\"Selected with the number \" + str(pick_num) + \" pick in the NFL Draft is \" + name + \" from \" + school)"
   ]
  },
  {
   "cell_type": "markdown",
   "metadata": {},
   "source": [
    "## Part 4: The *in* Comparison Operator\n",
    "\n",
    "In part 3, we used `in` as part of the For Loop in between our variable definition and iterable. However, `in` actually has antother use - it can be used as a comparison operator to check whether a value is contained within an iterable. \n",
    "\n",
    "For example, we can check whether `\"Tom Brady\"` was one of the top 10 players drafted in this year's NFL Draft."
   ]
  },
  {
   "cell_type": "code",
   "execution_count": null,
   "metadata": {},
   "outputs": [],
   "source": [
    "print(\"Tom Brady\" in top_10_players)"
   ]
  },
  {
   "cell_type": "markdown",
   "metadata": {},
   "source": [
    "The `in` comparison operator can be also be combined with the `not` operator to check whether a value is not in an iterable, like so"
   ]
  },
  {
   "cell_type": "code",
   "execution_count": null,
   "metadata": {},
   "outputs": [],
   "source": [
    "if \"Tom Brady\" not in top_10_players:\n",
    "    print(\"Doesn't look like Tom Brady was drafted this year.\")"
   ]
  },
  {
   "cell_type": "markdown",
   "metadata": {},
   "source": [
    "As we mentioned at the end of Part 3, strings are also iterables. Therefore, we can check whether a specific character or substring is contained within a string by simply using the `in` operator."
   ]
  },
  {
   "cell_type": "code",
   "execution_count": null,
   "metadata": {},
   "outputs": [],
   "source": [
    "rhyme = \"Fuzzy Wuzzy was a bear. Fuzzy Wuzzy had no hair.\"\n",
    "print(\"c\" in rhyme)\n",
    "print(\"uzz\" in rhyme)"
   ]
  },
  {
   "cell_type": "markdown",
   "metadata": {},
   "source": [
    "### Now you try! \n",
    "\n",
    "Imagine you're writing code that makes sure an e-mail is being sent to CRA, so you want to check that the recipient has `\"crai.com\"` at the end of the e-mail address. Write code below that individually checks whether the two recipients' e-mail addresses include the `\"crai.com\"` domain."
   ]
  },
  {
   "cell_type": "code",
   "execution_count": null,
   "metadata": {},
   "outputs": [],
   "source": [
    "recipient1 = \"fuzzywuzzy@baldingbears.org\"\n",
    "recipient2 = \"techlabs@crai.com\"\n"
   ]
  },
  {
   "cell_type": "markdown",
   "metadata": {},
   "source": [
    "## Part 5: The While Loop\n",
    "\n",
    "For Loops are very useful when we want to complete a repetitive task of defined length, such as downloading many files from the same website or calculating a statistic for years 2000-2019 based on data.\n",
    "\n",
    "But what if you want to do something for an unknown number of iterations? For example, repeat an alarm until the user hits snooze or simulate rolling a die until you roll a six?\n",
    "\n",
    "These cases would be better served by a While Loop. A While Loop is a loop that continues while a condition is met, such as below"
   ]
  },
  {
   "cell_type": "code",
   "execution_count": null,
   "metadata": {},
   "outputs": [],
   "source": [
    "num = 3\n",
    "while num < 100:\n",
    "    print(num)\n",
    "    num *= 3"
   ]
  },
  {
   "cell_type": "markdown",
   "metadata": {},
   "source": [
    "In the above example, the loop first checks if the variable `num` is less than 100. If it is and the statement returns the boolean `True`, it executes the indented code below, printing the variable and then multipling it by 3. It continues to do this until the condition is no longer met, i.e. the variable `num` is greater than or equal to 100."
   ]
  },
  {
   "cell_type": "markdown",
   "metadata": {},
   "source": [
    "What happens though if the condition is never met? For example, what if instead of multiple by 3 we multiplied by 1, meaning `num` would never change? In that case, the computer would be stuck in what's called an `infinite loop` and would never move on! If you every find yourself stuck in an infinite loop, use ctrl+c to escape the loop.\n"
   ]
  },
  {
   "cell_type": "markdown",
   "metadata": {},
   "source": [
    "Let's try another example. As was said before, While Loops are great at handling instances where we don't know how many iterations a process will take. For example, what if we wanted to simulate how many coin flips it takes to get a heads? We could do the following, which relies on the 'random' package which we will discuss in the next secion. For now, focus just on the loop and know that the `random.randint(0, 1)` part of the code produces 0 or 1 with equal likelihood."
   ]
  },
  {
   "cell_type": "code",
   "execution_count": null,
   "metadata": {},
   "outputs": [],
   "source": [
    "import random\n",
    "\n",
    "heads = False\n",
    "flips = 0\n",
    "while not heads:\n",
    "    num = random.randint(0, 1)\n",
    "    flips += 1\n",
    "    if num == 1:\n",
    "        heads = True\n",
    "    \n",
    "print(flips)"
   ]
  },
  {
   "cell_type": "markdown",
   "metadata": {},
   "source": [
    "In the above example, our condition is `not heads`, or in other words while the variable `heads` is `False`. In the body of the While Loop, we simulate the coin flip, using the `random.randint(0, 1)` referenced above. In this instance we say we flip a heads if the `num` variable equals 1. We then add 1 to a `flips` variable which keeps track of how many flips it takes us to get a heads.  Finally, we check if `num` equals 1, and if it does, we set the boolean variable `heads` to `True` so that the While Loop doesn't continue. "
   ]
  },
  {
   "cell_type": "markdown",
   "metadata": {},
   "source": [
    "Now you try! Imagine you are an alarm app developer and need to write code that checks whether the user would like stop the alarm after it goes off. Below is a commented-out While Loop that prints `\"Ring!\"` and then asks the user if they would like to stop the alarm. Currently, the While Loop runs indefinitely. Add code below the creation of the `response` variable that ends the alarm if the user types `\"Yes\"` or `\"yes\"`."
   ]
  },
  {
   "cell_type": "code",
   "execution_count": null,
   "metadata": {},
   "outputs": [],
   "source": [
    "stop = False\n",
    "while not stop:\n",
    "    print(\"Ring!\")\n",
    "    response = input(\"Would you like to stop the alarm? \")\n",
    "    if response.lower() == \"yes\":\n",
    "        print(\"OK, ending alarm.\")\n",
    "        stop = True\n",
    "    elif response.lower() == \"no\":\n",
    "        print(\"Ok, continuing to ring.\")\n",
    "    else:\n",
    "        print(\"Invalid response. Continuing to ring.\")"
   ]
  }
 ],
 "metadata": {
  "kernelspec": {
   "display_name": "Python 3",
   "language": "python",
   "name": "python3"
  },
  "language_info": {
   "codemirror_mode": {
    "name": "ipython",
    "version": 3
   },
   "file_extension": ".py",
   "mimetype": "text/x-python",
   "name": "python",
   "nbconvert_exporter": "python",
   "pygments_lexer": "ipython3",
   "version": "3.7.0"
  }
 },
 "nbformat": 4,
 "nbformat_minor": 4
}
