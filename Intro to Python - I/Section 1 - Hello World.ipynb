{
 "cells": [
  {
   "cell_type": "markdown",
   "metadata": {},
   "source": [
    "# Section 1: Hello World! - With Answers\n",
    "# The print statement and basic Python variable types\n",
    "\n",
    "Welcome to Python! Below, we introduce your first two Python concepts - \n",
    "the print statement and variable assignment.\n",
    "\n",
    "In Python, information can be printed to the console using the `print()` function.\n",
    "Below, we print \"Hello World!\" to the console, the obligitory first step\n",
    "of learning any programming language.\n",
    "\n",
    "After that, we introduce variable assignment and explore the basic types of \n",
    "variables that can be created in Python. \n",
    "\n",
    "This is a Jupyter Notebook which is an web-based Python editor. In Jupyter Notebooks, code is split into \"cells\", each of which starts with an arrow. To Run a cell, first click into the cell and then press cntrl+Enter or click the Run button at the top of the page. Make sure to also run the following code blocks in order as there may be instances where one code block depends on code written in a prior block. In those instances, it necessary to run the preceding blocks in order for everything to work correctly. \n",
    "\n",
    "Happy coding!\n"
   ]
  },
  {
   "cell_type": "markdown",
   "metadata": {},
   "source": [
    "## Part 1: The Print Statement\n",
    "\n",
    "The print function is a built-in Python function that prints text to the console. In Jupyter Notebooks, this means text will print below the code block it is executed in. Below, we print \"Hello World!\" to the console. Remember, in order to execute the below code, click into the colored cell and press cntrl+Enter or the Run button at the top of the page."
   ]
  },
  {
   "cell_type": "code",
   "execution_count": null,
   "metadata": {},
   "outputs": [],
   "source": [
    "print(\"Hello World!\")"
   ]
  },
  {
   "cell_type": "markdown",
   "metadata": {},
   "source": [
    "### Now you try! \n",
    "\n",
    "Replace \"your name here\" in the cell below with your name and press run! "
   ]
  },
  {
   "cell_type": "code",
   "execution_count": null,
   "metadata": {},
   "outputs": [],
   "source": [
    "print(\"Hi! My name is <your name here>.\")"
   ]
  },
  {
   "cell_type": "markdown",
   "metadata": {},
   "source": [
    "## Part 2: Variable Assignment\n",
    "\n",
    "In Python, values can be stored in variables in order to be referenced later. Variables are created using the equals sign `=`. In the code below, we first store the value `\"Hello World!\"` in a variable that we create called `hello_world` and then print the variable `hello_world` to the console."
   ]
  },
  {
   "cell_type": "code",
   "execution_count": null,
   "metadata": {},
   "outputs": [],
   "source": [
    "hello_world = \"Hello World!\"\n",
    "print(hello_world)"
   ]
  },
  {
   "cell_type": "markdown",
   "metadata": {},
   "source": [
    "In the code above, the *variable*, `hello_world`, takes the value `\"Hello World!\"` after we assign that value to the variable using the equals sign `=`. So, when we print `hello_world` to the console, Python prints the value of the variable, in this case `\"Hello World!\"`."
   ]
  },
  {
   "cell_type": "markdown",
   "metadata": {},
   "source": [
    "Now you try! Replace `\"<today's date>\"` with today's date and the print the `date`\n",
    "variable using the `print()` statement. Make sure that the date is surrounded by double quotation marks as below before running!"
   ]
  },
  {
   "cell_type": "code",
   "execution_count": null,
   "metadata": {},
   "outputs": [],
   "source": [
    "date = \"<today's date>\"\n",
    "print(date)"
   ]
  },
  {
   "cell_type": "markdown",
   "metadata": {},
   "source": [
    "We will explore the basic types of Python variables below"
   ]
  },
  {
   "cell_type": "markdown",
   "metadata": {},
   "source": [
    "## Part 3: Basic Variable Types in Python\n",
    "\n",
    "In Part 2 above, `hello_world` is a specific type of variable, in this case, a string variable. That is because we *assigned* a string value to it! Strings are text values and can be created in Python with either double quotion marks or single quotation marks."
   ]
  },
  {
   "cell_type": "code",
   "execution_count": null,
   "metadata": {},
   "outputs": [],
   "source": [
    "string = \"I'm a string!\""
   ]
  },
  {
   "cell_type": "markdown",
   "metadata": {},
   "source": [
    "There are 4 other basic data types in Python, many of which you may already be familiar with:\n",
    "* Integers\n",
    "* Floats\n",
    "* Booleans\n",
    "* Nonetype\n",
    "\n",
    "Integers are whole numbers, floats are decimal numbers, booleans take one of two values (`True` or `False`), and Nonetype only has one value (`None`). We will encounter Booleans and Nonetypes in later sections.\n",
    "\n",
    "Below, we show instances of each type.\n",
    "\n",
    "*Note: Text preceded by number signs/hashtags `#` are called comments. This text is ignored by Python when the code is run and therefore can be used to add context to code in the code itself.*"
   ]
  },
  {
   "cell_type": "code",
   "execution_count": null,
   "metadata": {},
   "outputs": [],
   "source": [
    "5 #integer\n",
    "5.5 #float\n",
    "True #Boolean\n",
    "None #Nonetype"
   ]
  },
  {
   "cell_type": "markdown",
   "metadata": {},
   "source": [
    "### Now you try! \n",
    "\n",
    "In the code cell below, create an integer variable, called `five`, and assign it the value `5`. Then, print the value of that variable to the console. After that, write another line of code that sets the variable `five` to the the string value `\"five\"`. Then again print the value of `five` to the console."
   ]
  },
  {
   "cell_type": "code",
   "execution_count": null,
   "metadata": {},
   "outputs": [],
   "source": []
  },
  {
   "cell_type": "markdown",
   "metadata": {},
   "source": [
    "## Part 4: Converting Between Variable Types\n",
    "\n",
    "Sometimes, we may have a variable that we want to convert to another variable type. For example, we may have a number stored as a string that we'd like to do some arithmetic on. Specifically, let's say we wanted to write a program that takes a number from user input (which returns the input as a string) and then prints the square of the number. To do that, we might write the code below"
   ]
  },
  {
   "cell_type": "code",
   "execution_count": null,
   "metadata": {},
   "outputs": [],
   "source": [
    "string_num = input(\"What number would you like to square? \")\n",
    "float_num = float(string_num)\n",
    "print(\"The square of\", string_num, \"is\", float_num * float_num)"
   ]
  },
  {
   "cell_type": "markdown",
   "metadata": {},
   "source": [
    "In the above code, we take user input using Python's built-in `input()` function. And then we convert that string to a number using the `float()` function which converts a variable into a float. After converting the number to a float, we then print the square of the output by multiplying the number by itself using Python's multiplication operator, `*`."
   ]
  },
  {
   "cell_type": "markdown",
   "metadata": {},
   "source": [
    "### Now you try!\n",
    "\n",
    "Just as we converted a string to a number using the `float()` function, we can convert numbers to string using the `str()` function. Right now, the code below raises an error because it tries to add an integer to a string! So, add a line of code in between the two statements below that converts the variable `number` to a string. Once `number` becomes a string, we'll be able to add it to the print statement to print the result."
   ]
  },
  {
   "cell_type": "code",
   "execution_count": null,
   "metadata": {},
   "outputs": [],
   "source": [
    "number = 4\n",
    "\n",
    "print(\"The number is \" + number)"
   ]
  }
 ],
 "metadata": {
  "kernelspec": {
   "display_name": "Python 3",
   "language": "python",
   "name": "python3"
  },
  "language_info": {
   "codemirror_mode": {
    "name": "ipython",
    "version": 3
   },
   "file_extension": ".py",
   "mimetype": "text/x-python",
   "name": "python",
   "nbconvert_exporter": "python",
   "pygments_lexer": "ipython3",
   "version": "3.7.0"
  }
 },
 "nbformat": 4,
 "nbformat_minor": 4
}
