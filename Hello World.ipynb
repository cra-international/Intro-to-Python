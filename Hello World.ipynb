{
 "cells": [
  {
   "cell_type": "markdown",
   "metadata": {},
   "source": [
    "# Hello World!\n",
    "# Section 1: The print statement and basic Python variable types\n",
    "\n",
    "Welcome to Python! Below, we introduce your first two Python concepts - \n",
    "print statements and variable assignment\n",
    "\n",
    "In Python, information can be printed to the console using the print() function.\n",
    "Below, we print \"Hello World!\" to the console, the obligitory first step\n",
    "of learning any programming language.\n",
    "\n",
    "After that, we introduce variable assignment and explore the basic types of \n",
    "variables that can be created in Python. \n",
    "\n",
    "In Jupyter Notebooks, code is split into \"cells\", each of which starts with an arrow. To Run a cell. Press cntrl+Enter or click the Run button at the top of the page.\n"
   ]
  },
  {
   "cell_type": "markdown",
   "metadata": {},
   "source": [
    "### Part 1: The Print Statement\n",
    "\n",
    "The print function is a built-in Python function that prints text to the console. In Jupyter Notebooks, this means text will print below the code block it is executed in. Below, we print \"Hello World!\" to the console."
   ]
  },
  {
   "cell_type": "code",
   "execution_count": 3,
   "metadata": {},
   "outputs": [
    {
     "name": "stdout",
     "output_type": "stream",
     "text": [
      "Hello World!\n"
     ]
    }
   ],
   "source": [
    "print(\"Hello World!\")"
   ]
  },
  {
   "cell_type": "markdown",
   "metadata": {},
   "source": [
    "Now you try! Replace \"your name here\" with your name in the code below and press run! "
   ]
  },
  {
   "cell_type": "code",
   "execution_count": 4,
   "metadata": {},
   "outputs": [
    {
     "name": "stdout",
     "output_type": "stream",
     "text": [
      "Hi! My name is <your name here>\n"
     ]
    }
   ],
   "source": [
    "print(\"Hi! My name is <your name here>.\")"
   ]
  },
  {
   "cell_type": "markdown",
   "metadata": {},
   "source": [
    "## Part 2: Variable Assignment\n",
    "\n",
    "In Python, values can be stored in variables in order to be referenced later. Variables are created using the equals sign (=). In the code below, we first store \"Hello World!\" as a variable called 'hello_world' and then print the variable 'hello_world to the console."
   ]
  },
  {
   "cell_type": "code",
   "execution_count": 5,
   "metadata": {},
   "outputs": [
    {
     "name": "stdout",
     "output_type": "stream",
     "text": [
      "Hello World!\n"
     ]
    }
   ],
   "source": [
    "hello_world = \"Hello World!\"\n",
    "print(hello_world)"
   ]
  },
  {
   "cell_type": "markdown",
   "metadata": {},
   "source": [
    "Now you try! Replace \"<today's date>\" with today's date and the print the 'date' variable using the print() statement"
   ]
  },
  {
   "cell_type": "code",
   "execution_count": 6,
   "metadata": {},
   "outputs": [],
   "source": [
    "date = \"<today's date>\""
   ]
  },
  {
   "cell_type": "markdown",
   "metadata": {},
   "source": [
    "We will explore the basic types of Python variables below"
   ]
  },
  {
   "cell_type": "markdown",
   "metadata": {},
   "source": [
    "## Part 3: Basic Variable Types in Python\n",
    "\n",
    "In Part 2 above, `hello_world` is a specific type of variable, in this case, a string variable. Strings are text variables and can be created in Python  with double or single quotes. Double quotes can be used if you want to include a single quote in the string and *vice versa*."
   ]
  },
  {
   "cell_type": "code",
   "execution_count": 8,
   "metadata": {},
   "outputs": [],
   "source": [
    "str1 = \"I'm a string!\"\n",
    "str2 = 'I am also a string!'"
   ]
  },
  {
   "cell_type": "markdown",
   "metadata": {},
   "source": [
    "There are 4 other basic data types in Python, many of which you may already be familiar with:\n",
    "* Integers\n",
    "* Floats\n",
    "* Booleans\n",
    "* Nonetype\n",
    "\n",
    "Integers are whole numbers, floats are decimal numbers, booleans take one of two values (`True` or `False`), and Nonetype only has one value (`None`).\n",
    "\n",
    "Below, we create variables of each type.\n"
   ]
  },
  {
   "cell_type": "code",
   "execution_count": 10,
   "metadata": {},
   "outputs": [],
   "source": [
    "integer = 5\n",
    "floater = 5.5\n",
    "boolean = True\n",
    "Nonetype = None"
   ]
  },
  {
   "cell_type": "markdown",
   "metadata": {},
   "source": [
    "How do we know that that these variables are the correct types? The `type()` function is a built-in Python function (like `print`) which returns the type of a specific variable. Below we combine `type()` and `print()` to identify the types of each variable."
   ]
  },
  {
   "cell_type": "code",
   "execution_count": 11,
   "metadata": {},
   "outputs": [
    {
     "name": "stdout",
     "output_type": "stream",
     "text": [
      "<class 'int'>\n",
      "<class 'float'>\n",
      "<class 'bool'>\n",
      "<class 'NoneType'>\n"
     ]
    }
   ],
   "source": [
    "print(type(integer))\n",
    "print(type(floater))\n",
    "print(type(boolean))\n",
    "print(type(Nonetype))"
   ]
  },
  {
   "cell_type": "markdown",
   "metadata": {},
   "source": [
    "One of the differences of Python as oppossed to programming langauges like Java is that in Python, variables can freely switch between types. For example, we can change the `Nonetype` variable to a string"
   ]
  },
  {
   "cell_type": "code",
   "execution_count": 12,
   "metadata": {},
   "outputs": [
    {
     "name": "stdout",
     "output_type": "stream",
     "text": [
      "<class 'str'>\n"
     ]
    }
   ],
   "source": [
    "Nonetype = \"Nothing to see here\"\n",
    "print(type(Nonetype))"
   ]
  },
  {
   "cell_type": "markdown",
   "metadata": {},
   "source": [
    "Now you try! Below is some code that asks for user input. To respond, click into the console and type your response. Then press enter. After that, write code that checks the type of the variable `user_input`."
   ]
  },
  {
   "cell_type": "code",
   "execution_count": 15,
   "metadata": {},
   "outputs": [
    {
     "name": "stdout",
     "output_type": "stream",
     "text": [
      "How's your day going? Good!\n",
      "user_input is  <class 'str'>\n"
     ]
    }
   ],
   "source": [
    "user_input = input(\"How's your day going? \")\n",
    "print(\"user_input is\", type(user_input))"
   ]
  }
 ],
 "metadata": {
  "kernelspec": {
   "display_name": "Python 3",
   "language": "python",
   "name": "python3"
  },
  "language_info": {
   "codemirror_mode": {
    "name": "ipython",
    "version": 3
   },
   "file_extension": ".py",
   "mimetype": "text/x-python",
   "name": "python",
   "nbconvert_exporter": "python",
   "pygments_lexer": "ipython3",
   "version": "3.7.0"
  }
 },
 "nbformat": 4,
 "nbformat_minor": 4
}
