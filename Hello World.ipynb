{
 "cells": [
  {
   "cell_type": "markdown",
   "metadata": {},
   "source": [
    "# Hello World!\n",
    "# Section 1: The print statement and basic Python variable types\n",
    "\n",
    "Welcome to Python! Below, we introduce your first two Python concepts - \n",
    "the print statement and variable assignment.\n",
    "\n",
    "In Python, information can be printed to the console using the `print()` function.\n",
    "Below, we print \"Hello World!\" to the console, the obligitory first step\n",
    "of learning any programming language.\n",
    "\n",
    "After that, we introduce variable assignment and explore the basic types of \n",
    "variables that can be created in Python. \n",
    "\n",
    "This is a Jupyter Notebook which is an web-based Python editor. In Jupyter Notebooks, code is split into \"cells\", each of which starts with an arrow. To Run a cell, first click into the cell and then press cntrl+Enter or click the Run button at the top of the page. Make sure to also run the following code blocks in order as there may be instances where one code block depends on code written in a prior block. In those instances, it necessary to run the preceding blocks in order for everything to work correctly. \n",
    "\n",
    "Happy coding!\n"
   ]
  },
  {
   "cell_type": "markdown",
   "metadata": {},
   "source": [
    "## Part 1: The Print Statement\n",
    "\n",
    "The print function is a built-in Python function that prints text to the console. In Jupyter Notebooks, this means text will print below the code block it is executed in. Below, we print \"Hello World!\" to the console. Remember, in order to execute the below code, click into the colored cell and press cntrl+Enter or the Run button at the top of the page."
   ]
  },
  {
   "cell_type": "code",
   "execution_count": 3,
   "metadata": {},
   "outputs": [
    {
     "name": "stdout",
     "output_type": "stream",
     "text": [
      "Hello World!\n"
     ]
    }
   ],
   "source": [
    "print(\"Hello World!\")"
   ]
  },
  {
   "cell_type": "markdown",
   "metadata": {},
   "source": [
    "Now you try! Replace \"your name here\" in the cell below with your name and press run! "
   ]
  },
  {
   "cell_type": "code",
   "execution_count": 4,
   "metadata": {},
   "outputs": [
    {
     "name": "stdout",
     "output_type": "stream",
     "text": [
      "Hi! My name is <your name here>\n"
     ]
    }
   ],
   "source": [
    "print(\"Hi! My name is <your name here>.\")"
   ]
  },
  {
   "cell_type": "markdown",
   "metadata": {},
   "source": [
    "## Part 2: Variable Assignment\n",
    "\n",
    "In Python, values can be stored in variables in order to be referenced later. Variables are created using the equals sign `=`. In the code below, we first store the value `\"Hello World!\"` in a variable that we create called `hello_world` and then print the variable `hello_world` to the console."
   ]
  },
  {
   "cell_type": "code",
   "execution_count": 5,
   "metadata": {},
   "outputs": [
    {
     "name": "stdout",
     "output_type": "stream",
     "text": [
      "Hello World!\n"
     ]
    }
   ],
   "source": [
    "hello_world = \"Hello World!\"\n",
    "print(hello_world)"
   ]
  },
  {
   "cell_type": "markdown",
   "metadata": {},
   "source": [
    "Now you try! Replace `\"<today's date>\"` with today's date and the print the `date`\n",
    "variable using the `print()` statement. Make sure that the date is surrounded by double quotation marks as below before running!"
   ]
  },
  {
   "cell_type": "code",
   "execution_count": 6,
   "metadata": {},
   "outputs": [],
   "source": [
    "date = \"<today's date>\""
   ]
  },
  {
   "cell_type": "markdown",
   "metadata": {},
   "source": [
    "We will explore the basic types of Python variables below"
   ]
  },
  {
   "cell_type": "markdown",
   "metadata": {},
   "source": [
    "## Part 3: Basic Variable Types in Python\n",
    "\n",
    "In Part 2 above, `hello_world` is a specific type of variable, in this case, a string variable. That is because we *assigned* a string value to it! Strings are text values and can be created in Python with either double quotion marks or single quotation marks."
   ]
  },
  {
   "cell_type": "code",
   "execution_count": 20,
   "metadata": {},
   "outputs": [],
   "source": [
    "string = \"I'm a string!\""
   ]
  },
  {
   "cell_type": "markdown",
   "metadata": {},
   "source": [
    "There are 4 other basic data types in Python, many of which you may already be familiar with:\n",
    "* Integers\n",
    "* Floats\n",
    "* Booleans\n",
    "* Nonetype\n",
    "\n",
    "Integers are whole numbers, floats are decimal numbers, booleans take one of two values (`True` or `False`), and Nonetype only has one value (`None`). We will encounter Booleans and Nonetypes in later sections.\n",
    "\n",
    "Below, we create variables of each type.\n"
   ]
  },
  {
   "cell_type": "code",
   "execution_count": 17,
   "metadata": {},
   "outputs": [],
   "source": [
    "integer = 5\n",
    "floater = 5.5\n",
    "boolean = True\n",
    "Nonetype = None"
   ]
  },
  {
   "cell_type": "markdown",
   "metadata": {},
   "source": [
    "Now you try! In the code cell below, create an integer variable, called `five`, and assign it the value `5`. Then, print the value of that variable to the console. After that, write another line of code that *reassigns* the string value `\"five\"` to the variable `five`. Then again print the value of `five` to the console."
   ]
  },
  {
   "cell_type": "code",
   "execution_count": null,
   "metadata": {},
   "outputs": [],
   "source": []
  }
 ],
 "metadata": {
  "kernelspec": {
   "display_name": "Python 3",
   "language": "python",
   "name": "python3"
  },
  "language_info": {
   "codemirror_mode": {
    "name": "ipython",
    "version": 3
   },
   "file_extension": ".py",
   "mimetype": "text/x-python",
   "name": "python",
   "nbconvert_exporter": "python",
   "pygments_lexer": "ipython3",
   "version": "3.7.0"
  }
 },
 "nbformat": 4,
 "nbformat_minor": 4
}
